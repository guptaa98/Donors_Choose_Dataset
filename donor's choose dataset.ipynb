{
 "cells": [
  {
   "cell_type": "markdown",
   "metadata": {
    "colab_type": "text",
    "id": "-Ab-X-IrCyl0"
   },
   "source": [
    "# DonorsChoose"
   ]
  },
  {
   "cell_type": "markdown",
   "metadata": {
    "colab_type": "text",
    "id": "etNpzy7rCyl2"
   },
   "source": [
    "<p>\n",
    "DonorsChoose.org receives hundreds of thousands of project proposals each year for classroom projects in need of funding. Right now, a large number of volunteers is needed to manually screen each submission before it's approved to be posted on the DonorsChoose.org website.\n",
    "</p>\n",
    "<p>\n",
    "    Next year, DonorsChoose.org expects to receive close to 500,000 project proposals. As a result, there are three main problems they need to solve:\n",
    "<ul>\n",
    "<li>\n",
    "    How to scale current manual processes and resources to screen 500,000 projects so that they can be posted as quickly and as efficiently as possible</li>\n",
    "    <li>How to increase the consistency of project vetting across different volunteers to improve the experience for teachers</li>\n",
    "    <li>How to focus volunteer time on the applications that need the most assistance</li>\n",
    "    </ul>\n",
    "</p>    \n",
    "<p>\n",
    "The goal of the competition is to predict whether or not a DonorsChoose.org project proposal submitted by a teacher will be approved, using the text of project descriptions as well as additional metadata about the project, teacher, and school. DonorsChoose.org can then use this information to identify projects most likely to need further review before approval.\n",
    "</p>"
   ]
  },
  {
   "cell_type": "markdown",
   "metadata": {
    "colab_type": "text",
    "id": "kO2Kg7TgCyl4"
   },
   "source": [
    "## About the DonorsChoose Data Set\n",
    "\n",
    "The `train.csv` data set provided by DonorsChoose contains the following features:\n",
    "\n",
    "Feature | Description \n",
    "----------|---------------\n",
    "**`project_id`** | A unique identifier for the proposed project. **Example:** `p036502`   \n",
    "**`project_title`**    | Title of the project. **Examples:**<br><ul><li><code>Art Will Make You Happy!</code></li><li><code>First Grade Fun</code></li></ul> \n",
    "**`project_grade_category`** | Grade level of students for which the project is targeted. One of the following enumerated values: <br/><ul><li><code>Grades PreK-2</code></li><li><code>Grades 3-5</code></li><li><code>Grades 6-8</code></li><li><code>Grades 9-12</code></li></ul>  \n",
    " **`project_subject_categories`** | One or more (comma-separated) subject categories for the project from the following enumerated list of values:  <br/><ul><li><code>Applied Learning</code></li><li><code>Care &amp; Hunger</code></li><li><code>Health &amp; Sports</code></li><li><code>History &amp; Civics</code></li><li><code>Literacy &amp; Language</code></li><li><code>Math &amp; Science</code></li><li><code>Music &amp; The Arts</code></li><li><code>Special Needs</code></li><li><code>Warmth</code></li></ul><br/> **Examples:** <br/><ul><li><code>Music &amp; The Arts</code></li><li><code>Literacy &amp; Language, Math &amp; Science</code></li>  \n",
    "  **`school_state`** | State where school is located ([Two-letter U.S. postal code](https://en.wikipedia.org/wiki/List_of_U.S._state_abbreviations#Postal_codes)). **Example:** `WY`\n",
    "**`project_subject_subcategories`** | One or more (comma-separated) subject subcategories for the project. **Examples:** <br/><ul><li><code>Literacy</code></li><li><code>Literature &amp; Writing, Social Sciences</code></li></ul> \n",
    "**`project_resource_summary`** | An explanation of the resources needed for the project. **Example:** <br/><ul><li><code>My students need hands on literacy materials to manage sensory needs!</code</li></ul> \n",
    "**`project_essay_1`**    | First application essay<sup>*</sup>  \n",
    "**`project_essay_2`**    | Second application essay<sup>*</sup> \n",
    "**`project_essay_3`**    | Third application essay<sup>*</sup> \n",
    "**`project_essay_4`**    | Fourth application essay<sup>*</sup> \n",
    "**`project_submitted_datetime`** | Datetime when project application was submitted. **Example:** `2016-04-28 12:43:56.245`   \n",
    "**`teacher_id`** | A unique identifier for the teacher of the proposed project. **Example:** `bdf8baa8fedef6bfeec7ae4ff1c15c56`  \n",
    "**`teacher_prefix`** | Teacher's title. One of the following enumerated values: <br/><ul><li><code>nan</code></li><li><code>Dr.</code></li><li><code>Mr.</code></li><li><code>Mrs.</code></li><li><code>Ms.</code></li><li><code>Teacher.</code></li></ul>  \n",
    "**`teacher_number_of_previously_posted_projects`** | Number of project applications previously submitted by the same teacher. **Example:** `2` \n",
    "\n",
    "<sup>*</sup> See the section <b>Notes on the Essay Data</b> for more details about these features.\n",
    "\n",
    "Additionally, the `resources.csv` data set provides more data about the resources required for each project. Each line in this file represents a resource required by a project:\n",
    "\n",
    "Feature | Description \n",
    "----------|---------------\n",
    "**`id`** | A `project_id` value from the `train.csv` file.  **Example:** `p036502`   \n",
    "**`description`** | Desciption of the resource. **Example:** `Tenor Saxophone Reeds, Box of 25`   \n",
    "**`quantity`** | Quantity of the resource required. **Example:** `3`   \n",
    "**`price`** | Price of the resource required. **Example:** `9.95`   \n",
    "\n",
    "**Note:** Many projects require multiple resources. The `id` value corresponds to a `project_id` in train.csv, so you use it as a key to retrieve all resources needed for a project:\n",
    "\n",
    "The data set contains the following label (the value you will attempt to predict):\n",
    "\n",
    "Label | Description\n",
    "----------|---------------\n",
    "`project_is_approved` | A binary flag indicating whether DonorsChoose approved the project. A value of `0` indicates the project was not approved, and a value of `1` indicates the project was approved."
   ]
  },
  {
   "cell_type": "markdown",
   "metadata": {
    "colab_type": "text",
    "id": "dBGA_YStCyl6"
   },
   "source": [
    "### Notes on the Essay Data\n",
    "\n",
    "<ul>\n",
    "Prior to May 17, 2016, the prompts for the essays were as follows:\n",
    "<li>__project_essay_1:__ \"Introduce us to your classroom\"</li>\n",
    "<li>__project_essay_2:__ \"Tell us more about your students\"</li>\n",
    "<li>__project_essay_3:__ \"Describe how your students will use the materials you're requesting\"</li>\n",
    "<li>__project_essay_3:__ \"Close by sharing why your project will make a difference\"</li>\n",
    "</ul>\n",
    "\n",
    "\n",
    "<ul>\n",
    "Starting on May 17, 2016, the number of essays was reduced from 4 to 2, and the prompts for the first 2 essays were changed to the following:<br>\n",
    "<li>__project_essay_1:__ \"Describe your students: What makes your students special? Specific details about their background, your neighborhood, and your school are all helpful.\"</li>\n",
    "<li>__project_essay_2:__ \"About your project: How will these materials make a difference in your students' learning and improve their school lives?\"</li>\n",
    "<br>For all projects with project_submitted_datetime of 2016-05-17 and later, the values of project_essay_3 and project_essay_4 will be NaN.\n",
    "</ul>\n"
   ]
  },
  {
   "cell_type": "code",
   "execution_count": 1,
   "metadata": {
    "colab": {},
    "colab_type": "code",
    "id": "XTrCJ5p9Cyl7",
    "outputId": "06c35f2f-d281-4345-9668-f8f44b28d6ac"
   },
   "outputs": [
    {
     "name": "stderr",
     "output_type": "stream",
     "text": [
      "IOPub data rate exceeded.\n",
      "The notebook server will temporarily stop sending output\n",
      "to the client in order to avoid crashing it.\n",
      "To change this limit, set the config variable\n",
      "`--NotebookApp.iopub_data_rate_limit`.\n"
     ]
    }
   ],
   "source": [
    "%matplotlib inline\n",
    "import warnings\n",
    "warnings.filterwarnings(\"ignore\")\n",
    "\n",
    "import sqlite3\n",
    "import pandas as pd\n",
    "import numpy as np\n",
    "import nltk\n",
    "import string\n",
    "import matplotlib.pyplot as plt\n",
    "import seaborn as sns\n",
    "from sklearn.feature_extraction.text import TfidfTransformer\n",
    "from sklearn.feature_extraction.text import TfidfVectorizer\n",
    "\n",
    "from sklearn.feature_extraction.text import CountVectorizer\n",
    "from sklearn.metrics import confusion_matrix\n",
    "from sklearn import metrics\n",
    "from sklearn.metrics import roc_curve, auc\n",
    "from nltk.stem.porter import PorterStemmer\n",
    "\n",
    "import re\n",
    "# Tutorial about Python regular expressions: https://pymotw.com/2/re/\n",
    "import string\n",
    "from nltk.corpus import stopwords\n",
    "from nltk.stem import PorterStemmer\n",
    "from nltk.stem.wordnet import WordNetLemmatizer\n",
    "\n",
    "from gensim.models import Word2Vec\n",
    "from gensim.models import KeyedVectors\n",
    "import pickle\n",
    "\n",
    "from tqdm import tqdm\n",
    "import os\n",
    "\n",
    "from plotly import plotly\n",
    "import plotly.offline as offline\n",
    "import plotly.graph_objs as go\n",
    "offline.init_notebook_mode()\n",
    "from collections import Counter"
   ]
  },
  {
   "cell_type": "markdown",
   "metadata": {
    "colab_type": "text",
    "id": "MjknLZQqCymQ"
   },
   "source": [
    "## 1.1 Reading Data"
   ]
  },
  {
   "cell_type": "code",
   "execution_count": 2,
   "metadata": {
    "colab": {},
    "colab_type": "code",
    "collapsed": true,
    "id": "abtcqBS8CymT"
   },
   "outputs": [],
   "source": [
    "project_data = pd.read_csv('train_data.csv')\n",
    "resource_data = pd.read_csv('resources.csv')"
   ]
  },
  {
   "cell_type": "code",
   "execution_count": 3,
   "metadata": {
    "colab": {},
    "colab_type": "code",
    "id": "Prf2ghjDCymX",
    "outputId": "226c1b3c-35c9-48bd-afc9-7a819c871e8d"
   },
   "outputs": [
    {
     "name": "stdout",
     "output_type": "stream",
     "text": [
      "Number of data points in train data (32414, 17)\n",
      "--------------------------------------------------\n",
      "The attributes of data : ['Unnamed: 0' 'id' 'teacher_id' 'teacher_prefix' 'school_state'\n",
      " 'project_submitted_datetime' 'project_grade_category'\n",
      " 'project_subject_categories' 'project_subject_subcategories'\n",
      " 'project_title' 'project_essay_1' 'project_essay_2' 'project_essay_3'\n",
      " 'project_essay_4' 'project_resource_summary'\n",
      " 'teacher_number_of_previously_posted_projects' 'project_is_approved']\n"
     ]
    }
   ],
   "source": [
    "print(\"Number of data points in train data\", project_data.shape)\n",
    "print('-'*50)\n",
    "print(\"The attributes of data :\", project_data.columns.values)"
   ]
  },
  {
   "cell_type": "code",
   "execution_count": 4,
   "metadata": {
    "colab": {},
    "colab_type": "code",
    "id": "BTGMDQoPCymc",
    "outputId": "5b3c47b3-d5d0-416b-b512-a59b77f60f0b"
   },
   "outputs": [
    {
     "data": {
      "text/html": [
       "<div>\n",
       "<style>\n",
       "    .dataframe thead tr:only-child th {\n",
       "        text-align: right;\n",
       "    }\n",
       "\n",
       "    .dataframe thead th {\n",
       "        text-align: left;\n",
       "    }\n",
       "\n",
       "    .dataframe tbody tr th {\n",
       "        vertical-align: top;\n",
       "    }\n",
       "</style>\n",
       "<table border=\"1\" class=\"dataframe\">\n",
       "  <thead>\n",
       "    <tr style=\"text-align: right;\">\n",
       "      <th></th>\n",
       "      <th>Unnamed: 0</th>\n",
       "      <th>id</th>\n",
       "      <th>teacher_id</th>\n",
       "      <th>teacher_prefix</th>\n",
       "      <th>school_state</th>\n",
       "      <th>Date</th>\n",
       "      <th>project_grade_category</th>\n",
       "      <th>project_subject_categories</th>\n",
       "      <th>project_subject_subcategories</th>\n",
       "      <th>project_title</th>\n",
       "      <th>project_essay_1</th>\n",
       "      <th>project_essay_2</th>\n",
       "      <th>project_essay_3</th>\n",
       "      <th>project_essay_4</th>\n",
       "      <th>project_resource_summary</th>\n",
       "      <th>teacher_number_of_previously_posted_projects</th>\n",
       "      <th>project_is_approved</th>\n",
       "    </tr>\n",
       "  </thead>\n",
       "  <tbody>\n",
       "    <tr>\n",
       "      <th>31477</th>\n",
       "      <td>47750</td>\n",
       "      <td>p185738</td>\n",
       "      <td>3afe10b996b7646d8641985a4b4b570d</td>\n",
       "      <td>Mrs.</td>\n",
       "      <td>UT</td>\n",
       "      <td>2016-01-05 01:05:00</td>\n",
       "      <td>Grades PreK-2</td>\n",
       "      <td>Math &amp; Science</td>\n",
       "      <td>Mathematics</td>\n",
       "      <td>Math is Fun!</td>\n",
       "      <td>\\\"The only way to learn mathematics is to do m...</td>\n",
       "      <td>My students love coming to school and working ...</td>\n",
       "      <td>My students will be using these math manipulat...</td>\n",
       "      <td>Learning about money is important so the stude...</td>\n",
       "      <td>My students need base ten blocks, realistic pl...</td>\n",
       "      <td>0</td>\n",
       "      <td>1</td>\n",
       "    </tr>\n",
       "    <tr>\n",
       "      <th>3287</th>\n",
       "      <td>159755</td>\n",
       "      <td>p147002</td>\n",
       "      <td>6ada7036aeb258d3653589d1f2a5b815</td>\n",
       "      <td>Mrs.</td>\n",
       "      <td>CA</td>\n",
       "      <td>2016-01-05 02:02:00</td>\n",
       "      <td>Grades 3-5</td>\n",
       "      <td>Literacy &amp; Language, Special Needs</td>\n",
       "      <td>Literacy, Special Needs</td>\n",
       "      <td>Multimedia, Apps, and a Game</td>\n",
       "      <td>My students need new ways to learn. Research i...</td>\n",
       "      <td>My students are elementary students in kinderg...</td>\n",
       "      <td>My students are pulled from their general educ...</td>\n",
       "      <td>This donation will improve motivate my student...</td>\n",
       "      <td>My students need multimedia comprehension mate...</td>\n",
       "      <td>2</td>\n",
       "      <td>0</td>\n",
       "    </tr>\n",
       "  </tbody>\n",
       "</table>\n",
       "</div>"
      ],
      "text/plain": [
       "       Unnamed: 0       id                        teacher_id teacher_prefix  \\\n",
       "31477       47750  p185738  3afe10b996b7646d8641985a4b4b570d           Mrs.   \n",
       "3287       159755  p147002  6ada7036aeb258d3653589d1f2a5b815           Mrs.   \n",
       "\n",
       "      school_state                Date project_grade_category  \\\n",
       "31477           UT 2016-01-05 01:05:00          Grades PreK-2   \n",
       "3287            CA 2016-01-05 02:02:00             Grades 3-5   \n",
       "\n",
       "               project_subject_categories project_subject_subcategories  \\\n",
       "31477                      Math & Science                   Mathematics   \n",
       "3287   Literacy & Language, Special Needs       Literacy, Special Needs   \n",
       "\n",
       "                      project_title  \\\n",
       "31477                  Math is Fun!   \n",
       "3287   Multimedia, Apps, and a Game   \n",
       "\n",
       "                                         project_essay_1  \\\n",
       "31477  \\\"The only way to learn mathematics is to do m...   \n",
       "3287   My students need new ways to learn. Research i...   \n",
       "\n",
       "                                         project_essay_2  \\\n",
       "31477  My students love coming to school and working ...   \n",
       "3287   My students are elementary students in kinderg...   \n",
       "\n",
       "                                         project_essay_3  \\\n",
       "31477  My students will be using these math manipulat...   \n",
       "3287   My students are pulled from their general educ...   \n",
       "\n",
       "                                         project_essay_4  \\\n",
       "31477  Learning about money is important so the stude...   \n",
       "3287   This donation will improve motivate my student...   \n",
       "\n",
       "                                project_resource_summary  \\\n",
       "31477  My students need base ten blocks, realistic pl...   \n",
       "3287   My students need multimedia comprehension mate...   \n",
       "\n",
       "       teacher_number_of_previously_posted_projects  project_is_approved  \n",
       "31477                                             0                    1  \n",
       "3287                                              2                    0  "
      ]
     },
     "execution_count": 4,
     "metadata": {},
     "output_type": "execute_result"
    }
   ],
   "source": [
    "# how to replace elements in list python: https://stackoverflow.com/a/2582163/4084039\n",
    "cols = ['Date' if x=='project_submitted_datetime' else x for x in list(project_data.columns)]\n",
    "\n",
    "\n",
    "#sort dataframe based on time pandas python: https://stackoverflow.com/a/49702492/4084039\n",
    "project_data['Date'] = pd.to_datetime(project_data['project_submitted_datetime'])\n",
    "project_data.drop('project_submitted_datetime', axis=1, inplace=True)\n",
    "project_data.sort_values(by=['Date'], inplace=True)\n",
    "\n",
    "\n",
    "# how to reorder columns pandas python: https://stackoverflow.com/a/13148611/4084039\n",
    "project_data = project_data[cols]\n",
    "\n",
    "\n",
    "project_data.head(2)"
   ]
  },
  {
   "cell_type": "code",
   "execution_count": 5,
   "metadata": {
    "colab": {},
    "colab_type": "code",
    "id": "ntdWuRoUCymj",
    "outputId": "7f1911f2-61b8-4069-bfb0-9fdfeb2419e3"
   },
   "outputs": [
    {
     "name": "stdout",
     "output_type": "stream",
     "text": [
      "Number of data points in train data (32414, 4)\n",
      "['id' 'description' 'quantity' 'price']\n"
     ]
    },
    {
     "data": {
      "text/html": [
       "<div>\n",
       "<style>\n",
       "    .dataframe thead tr:only-child th {\n",
       "        text-align: right;\n",
       "    }\n",
       "\n",
       "    .dataframe thead th {\n",
       "        text-align: left;\n",
       "    }\n",
       "\n",
       "    .dataframe tbody tr th {\n",
       "        vertical-align: top;\n",
       "    }\n",
       "</style>\n",
       "<table border=\"1\" class=\"dataframe\">\n",
       "  <thead>\n",
       "    <tr style=\"text-align: right;\">\n",
       "      <th></th>\n",
       "      <th>id</th>\n",
       "      <th>description</th>\n",
       "      <th>quantity</th>\n",
       "      <th>price</th>\n",
       "    </tr>\n",
       "  </thead>\n",
       "  <tbody>\n",
       "    <tr>\n",
       "      <th>0</th>\n",
       "      <td>p253737</td>\n",
       "      <td>LC652 - Lakeshore Double-Space Mobile Drying Rack</td>\n",
       "      <td>1</td>\n",
       "      <td>149.00</td>\n",
       "    </tr>\n",
       "    <tr>\n",
       "      <th>1</th>\n",
       "      <td>p258326</td>\n",
       "      <td>Bouncy Bands for Desks (Blue support pipes)</td>\n",
       "      <td>3</td>\n",
       "      <td>14.95</td>\n",
       "    </tr>\n",
       "  </tbody>\n",
       "</table>\n",
       "</div>"
      ],
      "text/plain": [
       "        id                                        description  quantity  \\\n",
       "0  p253737  LC652 - Lakeshore Double-Space Mobile Drying Rack         1   \n",
       "1  p258326        Bouncy Bands for Desks (Blue support pipes)         3   \n",
       "\n",
       "    price  \n",
       "0  149.00  \n",
       "1   14.95  "
      ]
     },
     "execution_count": 5,
     "metadata": {},
     "output_type": "execute_result"
    }
   ],
   "source": [
    "print(\"Number of data points in train data\", resource_data.shape)\n",
    "print(resource_data.columns.values)\n",
    "resource_data.head(2)"
   ]
  },
  {
   "cell_type": "markdown",
   "metadata": {
    "colab_type": "text",
    "id": "6WZaYhwJCymp"
   },
   "source": [
    "## 1.2 preprocessing of `project_subject_categories`"
   ]
  },
  {
   "cell_type": "code",
   "execution_count": 6,
   "metadata": {
    "colab": {},
    "colab_type": "code",
    "collapsed": true,
    "id": "Mdkhq7PRCymr"
   },
   "outputs": [],
   "source": [
    "catogories = list(project_data['project_subject_categories'].values)\n",
    "# remove special characters from list of strings python: https://stackoverflow.com/a/47301924/4084039\n",
    "\n",
    "# https://www.geeksforgeeks.org/removing-stop-words-nltk-python/\n",
    "# https://stackoverflow.com/questions/23669024/how-to-strip-a-specific-word-from-a-string\n",
    "# https://stackoverflow.com/questions/8270092/remove-all-whitespace-in-a-string-in-python\n",
    "cat_list = []\n",
    "for i in catogories:\n",
    "    temp = \"\"\n",
    "    # consider we have text like this \"Math & Science, Warmth, Care & Hunger\"\n",
    "    for j in i.split(','): # it will split it in three parts [\"Math & Science\", \"Warmth\", \"Care & Hunger\"]\n",
    "        if 'The' in j.split(): # this will split each of the catogory based on space \"Math & Science\"=> \"Math\",\"&\", \"Science\"\n",
    "            j=j.replace('The','') # if we have the words \"The\" we are going to replace it with ''(i.e removing 'The')\n",
    "        j = j.replace(' ','') # we are placeing all the ' '(space) with ''(empty) ex:\"Math & Science\"=>\"Math&Science\"\n",
    "        temp+=j.strip()+\" \" #\" abc \".strip() will return \"abc\", remove the trailing spaces\n",
    "        temp = temp.replace('&','_') # we are replacing the & value into \n",
    "    cat_list.append(temp.strip())\n",
    "    \n",
    "project_data['clean_categories'] = cat_list\n",
    "project_data.drop(['project_subject_categories'], axis=1, inplace=True)\n",
    "\n",
    "from collections import Counter\n",
    "my_counter = Counter()\n",
    "for word in project_data['clean_categories'].values:\n",
    "    my_counter.update(word.split())\n",
    "\n",
    "cat_dict = dict(my_counter)\n",
    "sorted_cat_dict = dict(sorted(cat_dict.items(), key=lambda kv: kv[1]))\n"
   ]
  },
  {
   "cell_type": "markdown",
   "metadata": {
    "colab_type": "text",
    "id": "386yx3T2Cymv"
   },
   "source": [
    "## 1.3 preprocessing of `project_subject_subcategories`"
   ]
  },
  {
   "cell_type": "code",
   "execution_count": 7,
   "metadata": {
    "colab": {},
    "colab_type": "code",
    "collapsed": true,
    "id": "4QSP0r8XCymw"
   },
   "outputs": [],
   "source": [
    "sub_catogories = list(project_data['project_subject_subcategories'].values)\n",
    "# remove special characters from list of strings python: https://stackoverflow.com/a/47301924/4084039\n",
    "\n",
    "# https://www.geeksforgeeks.org/removing-stop-words-nltk-python/\n",
    "# https://stackoverflow.com/questions/23669024/how-to-strip-a-specific-word-from-a-string\n",
    "# https://stackoverflow.com/questions/8270092/remove-all-whitespace-in-a-string-in-python\n",
    "\n",
    "sub_cat_list = []\n",
    "for i in sub_catogories:\n",
    "    temp = \"\"\n",
    "    # consider we have text like this \"Math & Science, Warmth, Care & Hunger\"\n",
    "    for j in i.split(','): # it will split it in three parts [\"Math & Science\", \"Warmth\", \"Care & Hunger\"]\n",
    "        if 'The' in j.split(): # this will split each of the catogory based on space \"Math & Science\"=> \"Math\",\"&\", \"Science\"\n",
    "            j=j.replace('The','') # if we have the words \"The\" we are going to replace it with ''(i.e removing 'The')\n",
    "        j = j.replace(' ','') # we are placeing all the ' '(space) with ''(empty) ex:\"Math & Science\"=>\"Math&Science\"\n",
    "        temp +=j.strip()+\" \"#\" abc \".strip() will return \"abc\", remove the trailing spaces\n",
    "        temp = temp.replace('&','_')\n",
    "    sub_cat_list.append(temp.strip())\n",
    "\n",
    "project_data['clean_subcategories'] = sub_cat_list\n",
    "project_data.drop(['project_subject_subcategories'], axis=1, inplace=True)\n",
    "\n",
    "# count of all the words in corpus python: https://stackoverflow.com/a/22898595/4084039\n",
    "my_counter = Counter()\n",
    "for word in project_data['clean_subcategories'].values:\n",
    "    my_counter.update(word.split())\n",
    "    \n",
    "sub_cat_dict = dict(my_counter)\n",
    "sorted_sub_cat_dict = dict(sorted(sub_cat_dict.items(), key=lambda kv: kv[1]))"
   ]
  },
  {
   "cell_type": "markdown",
   "metadata": {
    "colab_type": "text",
    "id": "NANzhWlLCynN"
   },
   "source": [
    "## 1.3 Text preprocessing"
   ]
  },
  {
   "cell_type": "code",
   "execution_count": 8,
   "metadata": {
    "colab": {},
    "colab_type": "code",
    "collapsed": true,
    "id": "yqsmu-BTCynQ"
   },
   "outputs": [],
   "source": [
    "# merge two column text dataframe: \n",
    "project_data[\"essay\"] = project_data[\"project_essay_1\"].map(str) +\\\n",
    "                        project_data[\"project_essay_2\"].map(str) + \\\n",
    "                        project_data[\"project_essay_3\"].map(str) + \\\n",
    "                        project_data[\"project_essay_4\"].map(str)"
   ]
  },
  {
   "cell_type": "code",
   "execution_count": 9,
   "metadata": {
    "colab": {},
    "colab_type": "code",
    "id": "xxtnd3maCynV",
    "outputId": "2002cbb7-9006-4764-ee13-c990d1a3a99e"
   },
   "outputs": [
    {
     "data": {
      "text/html": [
       "<div>\n",
       "<style>\n",
       "    .dataframe thead tr:only-child th {\n",
       "        text-align: right;\n",
       "    }\n",
       "\n",
       "    .dataframe thead th {\n",
       "        text-align: left;\n",
       "    }\n",
       "\n",
       "    .dataframe tbody tr th {\n",
       "        vertical-align: top;\n",
       "    }\n",
       "</style>\n",
       "<table border=\"1\" class=\"dataframe\">\n",
       "  <thead>\n",
       "    <tr style=\"text-align: right;\">\n",
       "      <th></th>\n",
       "      <th>Unnamed: 0</th>\n",
       "      <th>id</th>\n",
       "      <th>teacher_id</th>\n",
       "      <th>teacher_prefix</th>\n",
       "      <th>school_state</th>\n",
       "      <th>Date</th>\n",
       "      <th>project_grade_category</th>\n",
       "      <th>project_title</th>\n",
       "      <th>project_essay_1</th>\n",
       "      <th>project_essay_2</th>\n",
       "      <th>project_essay_3</th>\n",
       "      <th>project_essay_4</th>\n",
       "      <th>project_resource_summary</th>\n",
       "      <th>teacher_number_of_previously_posted_projects</th>\n",
       "      <th>project_is_approved</th>\n",
       "      <th>clean_categories</th>\n",
       "      <th>clean_subcategories</th>\n",
       "      <th>essay</th>\n",
       "    </tr>\n",
       "  </thead>\n",
       "  <tbody>\n",
       "    <tr>\n",
       "      <th>31477</th>\n",
       "      <td>47750</td>\n",
       "      <td>p185738</td>\n",
       "      <td>3afe10b996b7646d8641985a4b4b570d</td>\n",
       "      <td>Mrs.</td>\n",
       "      <td>UT</td>\n",
       "      <td>2016-01-05 01:05:00</td>\n",
       "      <td>Grades PreK-2</td>\n",
       "      <td>Math is Fun!</td>\n",
       "      <td>\\\"The only way to learn mathematics is to do m...</td>\n",
       "      <td>My students love coming to school and working ...</td>\n",
       "      <td>My students will be using these math manipulat...</td>\n",
       "      <td>Learning about money is important so the stude...</td>\n",
       "      <td>My students need base ten blocks, realistic pl...</td>\n",
       "      <td>0</td>\n",
       "      <td>1</td>\n",
       "      <td>Math_Science</td>\n",
       "      <td>Mathematics</td>\n",
       "      <td>\\\"The only way to learn mathematics is to do m...</td>\n",
       "    </tr>\n",
       "    <tr>\n",
       "      <th>3287</th>\n",
       "      <td>159755</td>\n",
       "      <td>p147002</td>\n",
       "      <td>6ada7036aeb258d3653589d1f2a5b815</td>\n",
       "      <td>Mrs.</td>\n",
       "      <td>CA</td>\n",
       "      <td>2016-01-05 02:02:00</td>\n",
       "      <td>Grades 3-5</td>\n",
       "      <td>Multimedia, Apps, and a Game</td>\n",
       "      <td>My students need new ways to learn. Research i...</td>\n",
       "      <td>My students are elementary students in kinderg...</td>\n",
       "      <td>My students are pulled from their general educ...</td>\n",
       "      <td>This donation will improve motivate my student...</td>\n",
       "      <td>My students need multimedia comprehension mate...</td>\n",
       "      <td>2</td>\n",
       "      <td>0</td>\n",
       "      <td>Literacy_Language SpecialNeeds</td>\n",
       "      <td>Literacy SpecialNeeds</td>\n",
       "      <td>My students need new ways to learn. Research i...</td>\n",
       "    </tr>\n",
       "  </tbody>\n",
       "</table>\n",
       "</div>"
      ],
      "text/plain": [
       "       Unnamed: 0       id                        teacher_id teacher_prefix  \\\n",
       "31477       47750  p185738  3afe10b996b7646d8641985a4b4b570d           Mrs.   \n",
       "3287       159755  p147002  6ada7036aeb258d3653589d1f2a5b815           Mrs.   \n",
       "\n",
       "      school_state                Date project_grade_category  \\\n",
       "31477           UT 2016-01-05 01:05:00          Grades PreK-2   \n",
       "3287            CA 2016-01-05 02:02:00             Grades 3-5   \n",
       "\n",
       "                      project_title  \\\n",
       "31477                  Math is Fun!   \n",
       "3287   Multimedia, Apps, and a Game   \n",
       "\n",
       "                                         project_essay_1  \\\n",
       "31477  \\\"The only way to learn mathematics is to do m...   \n",
       "3287   My students need new ways to learn. Research i...   \n",
       "\n",
       "                                         project_essay_2  \\\n",
       "31477  My students love coming to school and working ...   \n",
       "3287   My students are elementary students in kinderg...   \n",
       "\n",
       "                                         project_essay_3  \\\n",
       "31477  My students will be using these math manipulat...   \n",
       "3287   My students are pulled from their general educ...   \n",
       "\n",
       "                                         project_essay_4  \\\n",
       "31477  Learning about money is important so the stude...   \n",
       "3287   This donation will improve motivate my student...   \n",
       "\n",
       "                                project_resource_summary  \\\n",
       "31477  My students need base ten blocks, realistic pl...   \n",
       "3287   My students need multimedia comprehension mate...   \n",
       "\n",
       "       teacher_number_of_previously_posted_projects  project_is_approved  \\\n",
       "31477                                             0                    1   \n",
       "3287                                              2                    0   \n",
       "\n",
       "                     clean_categories    clean_subcategories  \\\n",
       "31477                    Math_Science            Mathematics   \n",
       "3287   Literacy_Language SpecialNeeds  Literacy SpecialNeeds   \n",
       "\n",
       "                                                   essay  \n",
       "31477  \\\"The only way to learn mathematics is to do m...  \n",
       "3287   My students need new ways to learn. Research i...  "
      ]
     },
     "execution_count": 9,
     "metadata": {},
     "output_type": "execute_result"
    }
   ],
   "source": [
    "project_data.head(2)"
   ]
  },
  {
   "cell_type": "markdown",
   "metadata": {
    "colab": {},
    "colab_type": "code",
    "collapsed": true,
    "id": "2ou8qSzkCyna"
   },
   "source": [
    "#### 1.4.2.3 Using Pretrained Models: TFIDF weighted W2V"
   ]
  },
  {
   "cell_type": "code",
   "execution_count": 10,
   "metadata": {
    "colab": {},
    "colab_type": "code",
    "id": "TCl7L1DhCyne",
    "outputId": "c1e9c200-8868-4b26-adbd-7836d815abef"
   },
   "outputs": [
    {
     "name": "stdout",
     "output_type": "stream",
     "text": [
      "\\\"The only way to learn mathematics is to do mathematics.\\\"\\r\\n-Paul Halmos.\\r\\nMy students love math time and using the hands-on manipulative's to make sense of what is being taught.My students love coming to school and working as hard as they can to learn new concepts everyday.  They especially love working with the math manipulative's and they are always coming up with new discoveries.\\r\\nOur school is a Title I school where over 50% of our population receives free or reduced lunch. Many of these children come from low-income families but this doesn't hinder their desire to learn.My students will be using these math manipulative's on a daily basis during our math block time.  The students will each have opportunities to explore and make connections that make math more concrete and help them relate to the concepts being taught.\\r\\nThey will be learning about our base ten number system and learn about money which are both important real life skills.Learning about money is important so the students can feel independent when they are given or earn money. They will be able to have a real sense of how much they can buy with certain amounts of money.  \\r\\nI'm so excited to watch them exchange pennies for other coins and learn to save their classroom money for purchases in our store.\n",
      "==================================================\n",
      "My students are energetic 6 and 7 year olds who love to learn.   They are vibrant and playful in their daily activities.  They love to  engage and learn in ways that make learning fun and memorable.\\r\\n\\r\\nEnvironment shapes experience.  Where do you enjoy reading?  Do you like to read in the shade, on the beach, or in your bed at night?   My students are more productive, engaged, and happy when they are allowed to read in ways that make reading magical.\\r\\nI teach first grade in an Indianapolis Public School.  My school's population is 80% Hispanic. 90% of our students receive free or reduced priced lunch and 66% of them are English Language Learners.  School is a safe place for my students, and they are excited to be there.  My students love reading, but I want to provide them with reading experiences that make their reading time magical in ways they may have never experienced.Reading is my passion and has always been an activity I do whenever possible.  As a child, I loved getting a flashlight and reading under my covers while I was supposed to be sleeping.  I will never forget that feeling.  I want my students to look forward to the joy of reading \\\"in the dark\\\"  by having Flashlight Fridays!   Students will each have their own rechargeable flashlight to use each Friday as I close the shades, turn out the lights, and let the magic begin.  I want this practice to become a habit, so that they will continue to read in the dark, at night, long after they take home their very own flashlight and make their own magic at home!nannan\n",
      "==================================================\n",
      "My students are hard working, humble and have huge hearts. There attitude and work ethic shine distinctly against the background of where they live and come from. Our school is a Title I school where over 95% of the students are on free or reduced lunch. \\r\\n    Our school as a very large population of first generation Americans. Many of their families sacrificed very much to give their children the hope and opportunities our country can provide. This unfortunately does not always afford the students the luxuries of their peers in other places. \\r\\n    My students may lack many of the modern comforts enjoyed by others their age. They may not have the newest clothes, shoes or technology but it does not dampen their spirit. They have a wonderful zest for learning and an innate drive. That is why it is so vital, that they see a small recognition of their effort. So we may cultivate this spirit and energy to propel them forward.Equipping my students with new sneakers for the basketball season will have a huge impact in terms of functionality and confidence. \\r\\n    The students I work with put in tremendous effort, but often find themselves embarrassed when they step on the court. Many do not have money for new sneakers or basketball sneakers at all. We borrow, lend and make do.\\r\\n     With the benefit of new sneakers for the team the students will perform better (cutting, running, jumping), but more importantly they will feel better about themselves. They will hold their heads high every time they compete.  \\r\\n      The proper basketball sneaker is not just an issue of cosmetics. The sneakers we have selected will provide the proper support to help avoid foot, ankle and knee injuries. My students should not have to compete with a higher injury risk just because they are less well of financially.\\r\\n      Teenagers very much associate how they act and feel with how they look. They can also at times be cruel to each other. When my students step on the court I want them to be focused on doing their best not worried about the ridicule and self doubt that can come from having old, beat up sneakers.  \\r\\n\\r\\n    \\r\\n  \\r\\nnannan\n",
      "==================================================\n",
      "Our school is filled with the laughter and smiles of our beautiful elementary students. But there are some children, our exceptional students, who face many obstacles and challenges at school and in their communities.  This wonderful group of exceptional children won't let anything get in their way of learning and fun.\\r\\n\\r\\nOur ESE unit is composed of the most amazing kindergarten through 5th grade exceptional education students, many who are on the Autism Spectrum or must contend with various exceptionalities. \\r\\n\\r\\nAs part of a title I school, many of these students' families have great financial needs.  Our students are in need of basic services and qualify for the free lunch program.  Recognizing these needs, our teachers turn to donors like you to help us provide basic supplies for our children.  Every donation directly helps these students!As a Title I school, many of our students families struggle each day to provide the necessary home and school supplies our students need.  Children use and abuse some items they own especially backpacks.  Our students need new backpacks to replace backpacks that may be too small, damaged or lost.  \\r\\n\\r\\nHave you experienced how heavy the books students take home are?  Backpacks are getting heavier and heavier.  Students need sturdy and strong backpacks to help with the load they carry.  By providing them a replacement backpack we not only help their families out we are saving our students' backs!  Students need appropriate size backpacks to prevent injury to their backsides.  We appreciate any assistance our amazing donors can provide.nannan\n",
      "==================================================\n"
     ]
    },
    {
     "ename": "IndexError",
     "evalue": "index 99999 is out of bounds for axis 0 with size 32414",
     "output_type": "error",
     "traceback": [
      "\u001b[1;31m---------------------------------------------------------------------------\u001b[0m",
      "\u001b[1;31mIndexError\u001b[0m                                Traceback (most recent call last)",
      "\u001b[1;32m<ipython-input-10-55d942a5c2e3>\u001b[0m in \u001b[0;36m<module>\u001b[1;34m()\u001b[0m\n\u001b[0;32m      8\u001b[0m \u001b[0mprint\u001b[0m\u001b[1;33m(\u001b[0m\u001b[0mproject_data\u001b[0m\u001b[1;33m[\u001b[0m\u001b[1;34m'essay'\u001b[0m\u001b[1;33m]\u001b[0m\u001b[1;33m.\u001b[0m\u001b[0mvalues\u001b[0m\u001b[1;33m[\u001b[0m\u001b[1;36m20000\u001b[0m\u001b[1;33m]\u001b[0m\u001b[1;33m)\u001b[0m\u001b[1;33m\u001b[0m\u001b[0m\n\u001b[0;32m      9\u001b[0m \u001b[0mprint\u001b[0m\u001b[1;33m(\u001b[0m\u001b[1;34m\"=\"\u001b[0m\u001b[1;33m*\u001b[0m\u001b[1;36m50\u001b[0m\u001b[1;33m)\u001b[0m\u001b[1;33m\u001b[0m\u001b[0m\n\u001b[1;32m---> 10\u001b[1;33m \u001b[0mprint\u001b[0m\u001b[1;33m(\u001b[0m\u001b[0mproject_data\u001b[0m\u001b[1;33m[\u001b[0m\u001b[1;34m'essay'\u001b[0m\u001b[1;33m]\u001b[0m\u001b[1;33m.\u001b[0m\u001b[0mvalues\u001b[0m\u001b[1;33m[\u001b[0m\u001b[1;36m99999\u001b[0m\u001b[1;33m]\u001b[0m\u001b[1;33m)\u001b[0m\u001b[1;33m\u001b[0m\u001b[0m\n\u001b[0m\u001b[0;32m     11\u001b[0m \u001b[0mprint\u001b[0m\u001b[1;33m(\u001b[0m\u001b[1;34m\"=\"\u001b[0m\u001b[1;33m*\u001b[0m\u001b[1;36m50\u001b[0m\u001b[1;33m)\u001b[0m\u001b[1;33m\u001b[0m\u001b[0m\n",
      "\u001b[1;31mIndexError\u001b[0m: index 99999 is out of bounds for axis 0 with size 32414"
     ]
    }
   ],
   "source": [
    "# printing some random reviews\n",
    "print(project_data['essay'].values[0])\n",
    "print(\"=\"*50)\n",
    "print(project_data['essay'].values[150])\n",
    "print(\"=\"*50)\n",
    "print(project_data['essay'].values[1000])\n",
    "print(\"=\"*50)\n",
    "print(project_data['essay'].values[20000])\n",
    "print(\"=\"*50)\n",
    "print(project_data['essay'].values[99999])\n",
    "print(\"=\"*50)"
   ]
  },
  {
   "cell_type": "code",
   "execution_count": 11,
   "metadata": {
    "colab": {},
    "colab_type": "code",
    "collapsed": true,
    "id": "Yqj4vGVoCynh"
   },
   "outputs": [],
   "source": [
    "# https://stackoverflow.com/a/47091490/4084039\n",
    "import re\n",
    "\n",
    "def decontracted(phrase):\n",
    "    # specific\n",
    "    phrase = re.sub(r\"won't\", \"will not\", phrase)\n",
    "    phrase = re.sub(r\"can\\'t\", \"can not\", phrase)\n",
    "\n",
    "    # general\n",
    "    phrase = re.sub(r\"n\\'t\", \" not\", phrase)\n",
    "    phrase = re.sub(r\"\\'re\", \" are\", phrase)\n",
    "    phrase = re.sub(r\"\\'s\", \" is\", phrase)\n",
    "    phrase = re.sub(r\"\\'d\", \" would\", phrase)\n",
    "    phrase = re.sub(r\"\\'ll\", \" will\", phrase)\n",
    "    phrase = re.sub(r\"\\'t\", \" not\", phrase)\n",
    "    phrase = re.sub(r\"\\'ve\", \" have\", phrase)\n",
    "    phrase = re.sub(r\"\\'m\", \" am\", phrase)\n",
    "    return phrase"
   ]
  },
  {
   "cell_type": "code",
   "execution_count": 12,
   "metadata": {
    "colab": {},
    "colab_type": "code",
    "id": "aDUbe9piCynj",
    "outputId": "cd082bbf-9ba2-4373-ea65-73c45627bb7d"
   },
   "outputs": [
    {
     "name": "stdout",
     "output_type": "stream",
     "text": [
      "Our school is filled with the laughter and smiles of our beautiful elementary students. But there are some children, our exceptional students, who face many obstacles and challenges at school and in their communities.  This wonderful group of exceptional children will not let anything get in their way of learning and fun.\\r\\n\\r\\nOur ESE unit is composed of the most amazing kindergarten through 5th grade exceptional education students, many who are on the Autism Spectrum or must contend with various exceptionalities. \\r\\n\\r\\nAs part of a title I school, many of these students' families have great financial needs.  Our students are in need of basic services and qualify for the free lunch program.  Recognizing these needs, our teachers turn to donors like you to help us provide basic supplies for our children.  Every donation directly helps these students!As a Title I school, many of our students families struggle each day to provide the necessary home and school supplies our students need.  Children use and abuse some items they own especially backpacks.  Our students need new backpacks to replace backpacks that may be too small, damaged or lost.  \\r\\n\\r\\nHave you experienced how heavy the books students take home are?  Backpacks are getting heavier and heavier.  Students need sturdy and strong backpacks to help with the load they carry.  By providing them a replacement backpack we not only help their families out we are saving our students' backs!  Students need appropriate size backpacks to prevent injury to their backsides.  We appreciate any assistance our amazing donors can provide.nannan\n",
      "==================================================\n"
     ]
    }
   ],
   "source": [
    "sent = decontracted(project_data['essay'].values[20000])\n",
    "print(sent)\n",
    "print(\"=\"*50)"
   ]
  },
  {
   "cell_type": "code",
   "execution_count": 13,
   "metadata": {
    "colab": {},
    "colab_type": "code",
    "id": "vXSbHYJ4Cynp",
    "outputId": "1becc1e1-bb25-48aa-f44f-32c99df9e13a"
   },
   "outputs": [
    {
     "name": "stdout",
     "output_type": "stream",
     "text": [
      "Our school is filled with the laughter and smiles of our beautiful elementary students. But there are some children, our exceptional students, who face many obstacles and challenges at school and in their communities.  This wonderful group of exceptional children will not let anything get in their way of learning and fun.    Our ESE unit is composed of the most amazing kindergarten through 5th grade exceptional education students, many who are on the Autism Spectrum or must contend with various exceptionalities.     As part of a title I school, many of these students' families have great financial needs.  Our students are in need of basic services and qualify for the free lunch program.  Recognizing these needs, our teachers turn to donors like you to help us provide basic supplies for our children.  Every donation directly helps these students!As a Title I school, many of our students families struggle each day to provide the necessary home and school supplies our students need.  Children use and abuse some items they own especially backpacks.  Our students need new backpacks to replace backpacks that may be too small, damaged or lost.      Have you experienced how heavy the books students take home are?  Backpacks are getting heavier and heavier.  Students need sturdy and strong backpacks to help with the load they carry.  By providing them a replacement backpack we not only help their families out we are saving our students' backs!  Students need appropriate size backpacks to prevent injury to their backsides.  We appreciate any assistance our amazing donors can provide.nannan\n"
     ]
    }
   ],
   "source": [
    "# \\r \\n \\t remove from string python: http://texthandler.com/info/remove-line-breaks-python/\n",
    "sent = sent.replace('\\\\r', ' ')\n",
    "sent = sent.replace('\\\\\"', ' ')\n",
    "sent = sent.replace('\\\\n', ' ')\n",
    "print(sent)"
   ]
  },
  {
   "cell_type": "code",
   "execution_count": 14,
   "metadata": {
    "colab": {},
    "colab_type": "code",
    "id": "67Agrz_YCynt",
    "outputId": "ec6bf4e3-c419-4740-9989-fa53128abe20"
   },
   "outputs": [
    {
     "name": "stdout",
     "output_type": "stream",
     "text": [
      "Our school is filled with the laughter and smiles of our beautiful elementary students But there are some children our exceptional students who face many obstacles and challenges at school and in their communities This wonderful group of exceptional children will not let anything get in their way of learning and fun Our ESE unit is composed of the most amazing kindergarten through 5th grade exceptional education students many who are on the Autism Spectrum or must contend with various exceptionalities As part of a title I school many of these students families have great financial needs Our students are in need of basic services and qualify for the free lunch program Recognizing these needs our teachers turn to donors like you to help us provide basic supplies for our children Every donation directly helps these students As a Title I school many of our students families struggle each day to provide the necessary home and school supplies our students need Children use and abuse some items they own especially backpacks Our students need new backpacks to replace backpacks that may be too small damaged or lost Have you experienced how heavy the books students take home are Backpacks are getting heavier and heavier Students need sturdy and strong backpacks to help with the load they carry By providing them a replacement backpack we not only help their families out we are saving our students backs Students need appropriate size backpacks to prevent injury to their backsides We appreciate any assistance our amazing donors can provide nannan\n"
     ]
    }
   ],
   "source": [
    "#remove spacial character: https://stackoverflow.com/a/5843547/4084039\n",
    "sent = re.sub('[^A-Za-z0-9]+', ' ', sent)\n",
    "print(sent)"
   ]
  },
  {
   "cell_type": "code",
   "execution_count": 15,
   "metadata": {
    "colab": {},
    "colab_type": "code",
    "collapsed": true,
    "id": "hhyPw-8wCyny"
   },
   "outputs": [],
   "source": [
    "# https://gist.github.com/sebleier/554280\n",
    "# we are removing the words from the stop words list: 'no', 'nor', 'not'\n",
    "stopwords= ['i', 'me', 'my', 'myself', 'we', 'our', 'ours', 'ourselves', 'you', \"you're\", \"you've\",\\\n",
    "            \"you'll\", \"you'd\", 'your', 'yours', 'yourself', 'yourselves', 'he', 'him', 'his', 'himself', \\\n",
    "            'she', \"she's\", 'her', 'hers', 'herself', 'it', \"it's\", 'its', 'itself', 'they', 'them', 'their',\\\n",
    "            'theirs', 'themselves', 'what', 'which', 'who', 'whom', 'this', 'that', \"that'll\", 'these', 'those', \\\n",
    "            'am', 'is', 'are', 'was', 'were', 'be', 'been', 'being', 'have', 'has', 'had', 'having', 'do', 'does', \\\n",
    "            'did', 'doing', 'a', 'an', 'the', 'and', 'but', 'if', 'or', 'because', 'as', 'until', 'while', 'of', \\\n",
    "            'at', 'by', 'for', 'with', 'about', 'against', 'between', 'into', 'through', 'during', 'before', 'after',\\\n",
    "            'above', 'below', 'to', 'from', 'up', 'down', 'in', 'out', 'on', 'off', 'over', 'under', 'again', 'further',\\\n",
    "            'then', 'once', 'here', 'there', 'when', 'where', 'why', 'how', 'all', 'any', 'both', 'each', 'few', 'more',\\\n",
    "            'most', 'other', 'some', 'such', 'only', 'own', 'same', 'so', 'than', 'too', 'very', \\\n",
    "            's', 't', 'can', 'will', 'just', 'don', \"don't\", 'should', \"should've\", 'now', 'd', 'll', 'm', 'o', 're', \\\n",
    "            've', 'y', 'ain', 'aren', \"aren't\", 'couldn', \"couldn't\", 'didn', \"didn't\", 'doesn', \"doesn't\", 'hadn',\\\n",
    "            \"hadn't\", 'hasn', \"hasn't\", 'haven', \"haven't\", 'isn', \"isn't\", 'ma', 'mightn', \"mightn't\", 'mustn',\\\n",
    "            \"mustn't\", 'needn', \"needn't\", 'shan', \"shan't\", 'shouldn', \"shouldn't\", 'wasn', \"wasn't\", 'weren', \"weren't\", \\\n",
    "            'won', \"won't\", 'wouldn', \"wouldn't\"]"
   ]
  },
  {
   "cell_type": "code",
   "execution_count": 16,
   "metadata": {
    "colab": {},
    "colab_type": "code",
    "id": "d6RCdphRCyn0",
    "outputId": "a59d693e-fa5b-4821-e173-e308905b96d5"
   },
   "outputs": [
    {
     "name": "stderr",
     "output_type": "stream",
     "text": [
      "100%|███████████████████████████████████████████████████████████████████████████| 32414/32414 [00:39<00:00, 827.81it/s]\n"
     ]
    }
   ],
   "source": [
    "# Combining all the above stundents \n",
    "from tqdm import tqdm\n",
    "preprocessed_essays = []\n",
    "# tqdm is for printing the status bar\n",
    "for sentance in tqdm(project_data['essay'].values):\n",
    "    sent = decontracted(sentance)\n",
    "    sent = sent.replace('\\\\r', ' ')\n",
    "    sent = sent.replace('\\\\\"', ' ')\n",
    "    sent = sent.replace('\\\\n', ' ')\n",
    "    sent = re.sub('[^A-Za-z0-9]+', ' ', sent)\n",
    "    # https://gist.github.com/sebleier/554280\n",
    "    sent = ' '.join(e for e in sent.split() if e.lower() not in stopwords)\n",
    "    preprocessed_essays.append(sent.lower().strip())"
   ]
  },
  {
   "cell_type": "code",
   "execution_count": 17,
   "metadata": {
    "colab": {},
    "colab_type": "code",
    "id": "rPo9cLvNCyn3",
    "outputId": "f4069bd0-65e3-46af-e799-f7e9132301bb"
   },
   "outputs": [
    {
     "data": {
      "text/plain": [
       "'school filled laughter smiles beautiful elementary students children exceptional students face many obstacles challenges school communities wonderful group exceptional children not let anything get way learning fun ese unit composed amazing kindergarten 5th grade exceptional education students many autism spectrum must contend various exceptionalities part title school many students families great financial needs students need basic services qualify free lunch program recognizing needs teachers turn donors like help us provide basic supplies children every donation directly helps students title school many students families struggle day provide necessary home school supplies students need children use abuse items especially backpacks students need new backpacks replace backpacks may small damaged lost experienced heavy books students take home backpacks getting heavier heavier students need sturdy strong backpacks help load carry providing replacement backpack not help families saving students backs students need appropriate size backpacks prevent injury backsides appreciate assistance amazing donors provide nannan'"
      ]
     },
     "execution_count": 17,
     "metadata": {},
     "output_type": "execute_result"
    }
   ],
   "source": [
    "# after preprocesing\n",
    "preprocessed_essays[20000]"
   ]
  },
  {
   "cell_type": "markdown",
   "metadata": {
    "colab_type": "text",
    "id": "QeUw6WMKCyn7"
   },
   "source": [
    "<h2><font color='red'> 1.4 Preprocessing of `project_title`</font></h2>"
   ]
  },
  {
   "cell_type": "code",
   "execution_count": 18,
   "metadata": {
    "colab": {},
    "colab_type": "code",
    "id": "Ql9ttfW3Cyn7"
   },
   "outputs": [
    {
     "name": "stdout",
     "output_type": "stream",
     "text": [
      "Math is Fun!\n",
      "==================================================\n",
      "Multimedia, Apps, and a Game\n",
      "==================================================\n",
      "Colorful Writing\n",
      "==================================================\n",
      "Let's Walk a Mile\n",
      "==================================================\n",
      "Listen, Listen Who's got the Story?\n",
      "==================================================\n",
      "Kinder fun\n",
      "==================================================\n",
      "New Volleyballs for our Girls Volleyball Team\n",
      "==================================================\n",
      "Classroom Supplies\n",
      "==================================================\n",
      "Sharpening to Success!\n",
      "==================================================\n",
      "iPads for my Little Learners\n",
      "==================================================\n",
      "Bullying, Boys and Books: A Novel Study Through \\\"Crash\\\"\n",
      "==================================================\n",
      "Love to Learn, Love to Play\n",
      "==================================================\n",
      "Empowering Students Through Art\n",
      "==================================================\n",
      "360 Camera\n",
      "==================================================\n",
      "Empowering Students Through Art: \\\"Glass\\\" Panel Poetry Books\n",
      "==================================================\n",
      "Back to Basics\n",
      "==================================================\n",
      "Twenty-First Century Learning\n",
      "==================================================\n",
      "Writers Wanted!\n",
      "==================================================\n",
      "***Just BOOKS***\n",
      "==================================================\n",
      "Comfy Cozy Cooperative learning\n",
      "==================================================\n",
      "Hot New Books for the END of the School Year!!!!\n",
      "==================================================\n"
     ]
    }
   ],
   "source": [
    "# printing some project titles.\n",
    "for i in range (0,21):\n",
    "    \n",
    "    print(project_data['project_title'].values[i])\n",
    "    print(\"=\"*50)"
   ]
  },
  {
   "cell_type": "code",
   "execution_count": 19,
   "metadata": {},
   "outputs": [
    {
     "name": "stderr",
     "output_type": "stream",
     "text": [
      "100%|█████████████████████████████████████████████████████████████████████████| 32414/32414 [00:02<00:00, 15687.46it/s]\n"
     ]
    }
   ],
   "source": [
    "preprocessed_titles = []\n",
    "\n",
    "for dataset in tqdm(project_data['project_title'].values):\n",
    "    data = decontracted(dataset)  # Replacing some specific and general short form into proper word/stopword.\n",
    "    data = re.sub(r\"it's\", \"it is\", data) # Replacing it's with it is as it is not part of function decontracted\n",
    "    data = data.replace('\\\\r', ' ') # Replacing \\r with space\n",
    "    data = data.replace('\\\\\"', ' ') # Replacing \\ with space\n",
    "    data = data.replace('\\\\n', ' ') # Replacing \\n with space\n",
    "    data = re.sub('[^A-Za-z0-9]+', ' ', data) # Replacing special characters with space\n",
    "    data = re.sub(\"\\S*\\d\\S*\", \"\", data).strip() # Trimming numbers containing digits\n",
    "    \n",
    "    data = ' '.join(e for e in data.split() if e not in stopwords) # Removing stopwords \n",
    "    preprocessed_titles.append(data.lower().strip()) # Creating array in all the lower cases. "
   ]
  },
  {
   "cell_type": "code",
   "execution_count": 20,
   "metadata": {},
   "outputs": [
    {
     "name": "stdout",
     "output_type": "stream",
     "text": [
      "math fun\n",
      "==================================================\n",
      "multimedia apps game\n",
      "==================================================\n",
      "colorful writing\n",
      "==================================================\n",
      "let walk mile\n",
      "==================================================\n",
      "listen listen who got story\n",
      "==================================================\n",
      "kinder fun\n",
      "==================================================\n",
      "new volleyballs girls volleyball team\n",
      "==================================================\n",
      "classroom supplies\n",
      "==================================================\n",
      "sharpening success\n",
      "==================================================\n",
      "ipads little learners\n",
      "==================================================\n",
      "bullying boys books a novel study through crash\n",
      "==================================================\n",
      "love learn love play\n",
      "==================================================\n",
      "empowering students through art\n",
      "==================================================\n",
      "camera\n",
      "==================================================\n",
      "empowering students through art glass panel poetry books\n",
      "==================================================\n",
      "back basics\n",
      "==================================================\n",
      "twenty first century learning\n",
      "==================================================\n",
      "writers wanted\n",
      "==================================================\n",
      "just books\n",
      "==================================================\n",
      "comfy cozy cooperative learning\n",
      "==================================================\n",
      "hot new books end school year\n",
      "==================================================\n"
     ]
    }
   ],
   "source": [
    "for i in range (0,21):\n",
    "    print(preprocessed_titles[i])\n",
    "    print(\"=\"*50)"
   ]
  },
  {
   "cell_type": "markdown",
   "metadata": {},
   "source": [
    "Observation: As we can see after preprocessing data do not have any special characters, symbols, stopwords and all the words are in lowercase"
   ]
  },
  {
   "cell_type": "markdown",
   "metadata": {
    "colab_type": "text",
    "id": "NQg4ZfFtCyn9"
   },
   "source": [
    "## 1.5 Preparing data for models"
   ]
  },
  {
   "cell_type": "code",
   "execution_count": 21,
   "metadata": {
    "colab": {},
    "colab_type": "code",
    "id": "V4GS54ZTCyn-",
    "outputId": "febd575b-ed33-454e-d2d5-e8f6f635d117"
   },
   "outputs": [
    {
     "data": {
      "text/plain": [
       "Index(['Unnamed: 0', 'id', 'teacher_id', 'teacher_prefix', 'school_state',\n",
       "       'Date', 'project_grade_category', 'project_title', 'project_essay_1',\n",
       "       'project_essay_2', 'project_essay_3', 'project_essay_4',\n",
       "       'project_resource_summary',\n",
       "       'teacher_number_of_previously_posted_projects', 'project_is_approved',\n",
       "       'clean_categories', 'clean_subcategories', 'essay'],\n",
       "      dtype='object')"
      ]
     },
     "execution_count": 21,
     "metadata": {},
     "output_type": "execute_result"
    }
   ],
   "source": [
    "project_data.columns"
   ]
  },
  {
   "cell_type": "markdown",
   "metadata": {
    "colab_type": "text",
    "id": "6FDsc1epCyoD"
   },
   "source": [
    "we are going to consider\n",
    "\n",
    "       - school_state : categorical data\n",
    "       - clean_categories : categorical data\n",
    "       - clean_subcategories : categorical data\n",
    "       - project_grade_category : categorical data\n",
    "       - teacher_prefix : categorical data\n",
    "       \n",
    "       - project_title : text data\n",
    "       - text : text data\n",
    "       - project_resource_summary: text data (optinal)\n",
    "       \n",
    "       - quantity : numerical (optinal)\n",
    "       - teacher_number_of_previously_posted_projects : numerical\n",
    "       - price : numerical"
   ]
  },
  {
   "cell_type": "markdown",
   "metadata": {
    "colab_type": "text",
    "id": "0d0QeeQ-CyoD"
   },
   "source": [
    "### 1.5.1 Vectorizing Categorical data"
   ]
  },
  {
   "cell_type": "markdown",
   "metadata": {
    "colab_type": "text",
    "id": "kFZFSOirCyoD"
   },
   "source": [
    "- https://www.appliedaicourse.com/course/applied-ai-course-online/lessons/handling-categorical-and-numerical-features/"
   ]
  },
  {
   "cell_type": "code",
   "execution_count": 22,
   "metadata": {
    "colab": {},
    "colab_type": "code",
    "id": "_5mt7VMXCyoF",
    "outputId": "0dbca3d7-df66-46b6-d9b3-a4035f29f8ab"
   },
   "outputs": [
    {
     "name": "stdout",
     "output_type": "stream",
     "text": [
      "['Warmth', 'Care_Hunger', 'History_Civics', 'Music_Arts', 'AppliedLearning', 'SpecialNeeds', 'Health_Sports', 'Math_Science', 'Literacy_Language']\n",
      "Shape of matrix after one hot encodig  (32414, 9)\n"
     ]
    }
   ],
   "source": [
    "# we use count vectorizer to convert the values into one \n",
    "from sklearn.feature_extraction.text import CountVectorizer\n",
    "vectorizer = CountVectorizer(vocabulary=list(sorted_cat_dict.keys()), lowercase=False, binary=True)\n",
    "categories_one_hot = vectorizer.fit_transform(project_data['clean_categories'].values)\n",
    "print(vectorizer.get_feature_names())\n",
    "print(\"Shape of matrix after one hot encodig \",categories_one_hot.shape)"
   ]
  },
  {
   "cell_type": "code",
   "execution_count": 23,
   "metadata": {
    "colab": {},
    "colab_type": "code",
    "id": "npr7SzACCyoH",
    "outputId": "68c81ac7-c96e-4a19-849e-6b8213608464"
   },
   "outputs": [
    {
     "name": "stdout",
     "output_type": "stream",
     "text": [
      "['Economics', 'CommunityService', 'FinancialLiteracy', 'ParentInvolvement', 'Extracurricular', 'Civics_Government', 'ForeignLanguages', 'NutritionEducation', 'Warmth', 'Care_Hunger', 'SocialSciences', 'PerformingArts', 'CharacterEducation', 'TeamSports', 'Other', 'College_CareerPrep', 'Music', 'History_Geography', 'Health_LifeScience', 'EarlyDevelopment', 'ESL', 'Gym_Fitness', 'EnvironmentalScience', 'VisualArts', 'Health_Wellness', 'AppliedSciences', 'SpecialNeeds', 'Literature_Writing', 'Mathematics', 'Literacy']\n",
      "Shape of matrix after one hot encodig  (32414, 30)\n"
     ]
    }
   ],
   "source": [
    "# we use count vectorizer to convert the values into one \n",
    "vectorizer = CountVectorizer(vocabulary=list(sorted_sub_cat_dict.keys()), lowercase=False, binary=True)\n",
    "sub_categories_one_hot = vectorizer.fit_transform(project_data['clean_subcategories'].values)\n",
    "print(vectorizer.get_feature_names())\n",
    "print(\"Shape of matrix after one hot encodig \",sub_categories_one_hot.shape)"
   ]
  },
  {
   "cell_type": "code",
   "execution_count": 24,
   "metadata": {
    "colab": {},
    "colab_type": "code",
    "id": "0ecQOf-JCyoL"
   },
   "outputs": [
    {
     "name": "stdout",
     "output_type": "stream",
     "text": [
      "['AK', 'AL', 'AR', 'AZ', 'CA', 'CO', 'CT', 'DC', 'DE', 'FL', 'GA', 'HI', 'IA', 'ID', 'IL', 'IN', 'KS', 'KY', 'LA', 'MA', 'MD', 'ME', 'MI', 'MN', 'MO', 'MS', 'MT', 'NC', 'ND', 'NE', 'NH', 'NJ', 'NM', 'NV', 'NY', 'OH', 'OK', 'OR', 'PA', 'RI', 'SC', 'SD', 'TN', 'TX', 'UT', 'VA', 'VT', 'WA', 'WI', 'WV', 'WY']\n",
      "Shape of matrix after one hot encodig  (32414, 51)\n",
      "the type of count vectorizer  <class 'scipy.sparse.csr.csr_matrix'>\n"
     ]
    }
   ],
   "source": [
    "school_state_vectorizer = CountVectorizer(lowercase=False, binary=True)\n",
    "school_state_vectorizer.fit(project_data['school_state'].values)\n",
    "print(school_state_vectorizer.get_feature_names())\n",
    "\n",
    "school_state_one_hot = school_state_vectorizer.transform(project_data['school_state'].values)\n",
    "print(\"Shape of matrix after one hot encodig \",school_state_one_hot.shape)\n",
    "print(\"the type of count vectorizer \",type(school_state_one_hot))"
   ]
  },
  {
   "cell_type": "code",
   "execution_count": 25,
   "metadata": {},
   "outputs": [
    {
     "name": "stdout",
     "output_type": "stream",
     "text": [
      "['Mr', 'Mrs', 'Ms', 'No_Prefix', 'Teacher']\n",
      "Shape of matrix after one hot encodig  (32414, 5)\n"
     ]
    }
   ],
   "source": [
    "# https://www.geeksforgeeks.org/python-pandas-dataframe-fillna-to-replace-null-values-in-dataframe/\n",
    "project_data[\"teacher_prefix\"].fillna(\"No_Prefix\", inplace = True)\n",
    "    \n",
    "teacher_prefix_vectorizer = CountVectorizer(lowercase=False, binary=True)\n",
    "teacher_prefix_vectorizer.fit(project_data['teacher_prefix'].values)\n",
    "print(teacher_prefix_vectorizer.get_feature_names())\n",
    "\n",
    "teacher_prefix_one_hot = teacher_prefix_vectorizer.transform(project_data['teacher_prefix'].values)\n",
    "print(\"Shape of matrix after one hot encodig \",teacher_prefix_one_hot.shape)"
   ]
  },
  {
   "cell_type": "code",
   "execution_count": 26,
   "metadata": {},
   "outputs": [
    {
     "name": "stdout",
     "output_type": "stream",
     "text": [
      "['9-12', '6-8', '3-5', 'PreK-2', 'Grades']\n",
      "Shape of matrix after one hot encodig  (32414, 5)\n"
     ]
    }
   ],
   "source": [
    "my_grade_counter = Counter()\n",
    "\n",
    "for project_grade in project_data['project_grade_category'].values:\n",
    "    my_grade_counter.update(project_grade.split())\n",
    "    \n",
    "project_grade_cat_dict = dict(my_grade_counter)\n",
    "sorted_project_grade_cat_dict = dict(sorted(project_grade_cat_dict.items(), key=lambda kv: kv[1]))\n",
    "    \n",
    "grade_cat_vectorizer = CountVectorizer(vocabulary=list(sorted_project_grade_cat_dict.keys()), lowercase=False, binary=True)\n",
    "grade_cat_vectorizer.fit(project_data['project_grade_category'].values)\n",
    "print(grade_cat_vectorizer.get_feature_names())\n",
    "\n",
    "grade_cat_one_hot = grade_cat_vectorizer.transform(project_data['project_grade_category'].values)\n",
    "print(\"Shape of matrix after one hot encodig \",grade_cat_one_hot.shape)"
   ]
  },
  {
   "cell_type": "markdown",
   "metadata": {
    "colab_type": "text",
    "id": "5YnkzKnmCyoN"
   },
   "source": [
    "### 1.5.2 Vectorizing Text data"
   ]
  },
  {
   "cell_type": "markdown",
   "metadata": {
    "colab_type": "text",
    "id": "W544CoFtCyoN"
   },
   "source": [
    "#### 1.5.2.1 Bag of words"
   ]
  },
  {
   "cell_type": "code",
   "execution_count": 27,
   "metadata": {
    "colab": {},
    "colab_type": "code",
    "id": "2D93QosECyoP",
    "outputId": "ca16a2b1-fde3-46c0-a026-6a839ffa6e4a"
   },
   "outputs": [
    {
     "name": "stdout",
     "output_type": "stream",
     "text": [
      "Shape of matrix after one hot encodig  (32414, 10197)\n"
     ]
    }
   ],
   "source": [
    "# We are considering only the words which appeared in at least 10 documents(rows or projects).\n",
    "vectorizer = CountVectorizer(min_df=10)\n",
    "text_bow = vectorizer.fit_transform(preprocessed_essays)\n",
    "print(\"Shape of matrix after one hot encodig \",text_bow.shape)"
   ]
  },
  {
   "cell_type": "code",
   "execution_count": 28,
   "metadata": {
    "colab": {},
    "colab_type": "code",
    "id": "rvPTRSkrCyoU"
   },
   "outputs": [
    {
     "name": "stdout",
     "output_type": "stream",
     "text": [
      "some sample features(unique words in the corpus) ['abc', 'about', 'academic', 'access', 'accessible', 'accessing', 'accessories', 'achieve', 'achievement', 'achieving']\n",
      "Shape of matrix after one hot encodig  (32414, 1601)\n",
      "the type of count vectorizer  <class 'scipy.sparse.csr.csr_matrix'>\n",
      "the number of unique words  1601\n"
     ]
    }
   ],
   "source": [
    "titles_vectorizer = CountVectorizer(min_df=10)\n",
    "titles_bow = titles_vectorizer.fit_transform(preprocessed_titles)\n",
    "print(\"some sample features(unique words in the corpus)\",titles_vectorizer.get_feature_names()[0:10])\n",
    "print(\"Shape of matrix after one hot encodig \",titles_bow.shape)\n",
    "print(\"the type of count vectorizer \",type(titles_bow))\n",
    "print(\"the number of unique words \", titles_bow.get_shape()[1])"
   ]
  },
  {
   "cell_type": "markdown",
   "metadata": {
    "colab_type": "text",
    "id": "gK_SHRpTCyol"
   },
   "source": [
    "#### 1.5.2.2 TFIDF vectorizer"
   ]
  },
  {
   "cell_type": "code",
   "execution_count": 29,
   "metadata": {
    "colab": {},
    "colab_type": "code",
    "id": "l0gzc2iwCyoo",
    "outputId": "3ada03da-5eec-4a16-c7bd-915d1c9352ae"
   },
   "outputs": [
    {
     "name": "stdout",
     "output_type": "stream",
     "text": [
      "Shape of matrix after one hot encodig  (32414, 10197)\n"
     ]
    }
   ],
   "source": [
    "from sklearn.feature_extraction.text import TfidfVectorizer\n",
    "vectorizer = TfidfVectorizer(min_df=10)\n",
    "text_tfidf = vectorizer.fit_transform(preprocessed_essays)\n",
    "print(\"Shape of matrix after one hot encodig \",text_tfidf.shape)"
   ]
  },
  {
   "cell_type": "markdown",
   "metadata": {
    "colab_type": "text",
    "id": "YHwGesZUCyo1"
   },
   "source": [
    "#### 1.5.2.3 Using Pretrained Models: Avg W2V"
   ]
  },
  {
   "cell_type": "code",
   "execution_count": 30,
   "metadata": {
    "colab": {},
    "colab_type": "code",
    "id": "FcsomcruCyo2",
    "outputId": "9876bfe7-73e1-454a-b937-f66fae906539"
   },
   "outputs": [
    {
     "data": {
      "text/plain": [
       "'\\n# Reading glove vectors in python: https://stackoverflow.com/a/38230349/4084039\\ndef loadGloveModel(gloveFile):\\n    print (\"Loading Glove Model\")\\n    f = open(gloveFile,\\'r\\', encoding=\"utf8\")\\n    model = {}\\n    for line in tqdm(f):\\n        splitLine = line.split()\\n        word = splitLine[0]\\n        embedding = np.array([float(val) for val in splitLine[1:]])\\n        model[word] = embedding\\n    print (\"Done.\",len(model),\" words loaded!\")\\n    return model\\nmodel = loadGloveModel(\\'glove.42B.300d.txt\\')\\n\\n# ============================\\nOutput:\\n    \\nLoading Glove Model\\n1917495it [06:32, 4879.69it/s]\\nDone. 1917495  words loaded!\\n\\n# ============================\\n\\nwords = []\\nfor i in preproced_texts:\\n    words.extend(i.split(\\' \\'))\\n\\nfor i in preproced_titles:\\n    words.extend(i.split(\\' \\'))\\nprint(\"all the words in the coupus\", len(words))\\nwords = set(words)\\nprint(\"the unique words in the coupus\", len(words))\\n\\ninter_words = set(model.keys()).intersection(words)\\nprint(\"The number of words that are present in both glove vectors and our coupus\",       len(inter_words),\"(\",np.round(len(inter_words)/len(words)*100,3),\"%)\")\\n\\nwords_courpus = {}\\nwords_glove = set(model.keys())\\nfor i in words:\\n    if i in words_glove:\\n        words_courpus[i] = model[i]\\nprint(\"word 2 vec length\", len(words_courpus))\\n\\n\\n# stronging variables into pickle files python: http://www.jessicayung.com/how-to-use-pickle-to-save-and-load-variables-in-python/\\n\\nimport pickle\\nwith open(\\'glove_vectors\\', \\'wb\\') as f:\\n    pickle.dump(words_courpus, f)\\n\\n\\n'"
      ]
     },
     "execution_count": 30,
     "metadata": {},
     "output_type": "execute_result"
    }
   ],
   "source": [
    "'''\n",
    "# Reading glove vectors in python: https://stackoverflow.com/a/38230349/4084039\n",
    "def loadGloveModel(gloveFile):\n",
    "    print (\"Loading Glove Model\")\n",
    "    f = open(gloveFile,'r', encoding=\"utf8\")\n",
    "    model = {}\n",
    "    for line in tqdm(f):\n",
    "        splitLine = line.split()\n",
    "        word = splitLine[0]\n",
    "        embedding = np.array([float(val) for val in splitLine[1:]])\n",
    "        model[word] = embedding\n",
    "    print (\"Done.\",len(model),\" words loaded!\")\n",
    "    return model\n",
    "model = loadGloveModel('glove.42B.300d.txt')\n",
    "\n",
    "# ============================\n",
    "Output:\n",
    "    \n",
    "Loading Glove Model\n",
    "1917495it [06:32, 4879.69it/s]\n",
    "Done. 1917495  words loaded!\n",
    "\n",
    "# ============================\n",
    "\n",
    "words = []\n",
    "for i in preproced_texts:\n",
    "    words.extend(i.split(' '))\n",
    "\n",
    "for i in preproced_titles:\n",
    "    words.extend(i.split(' '))\n",
    "print(\"all the words in the coupus\", len(words))\n",
    "words = set(words)\n",
    "print(\"the unique words in the coupus\", len(words))\n",
    "\n",
    "inter_words = set(model.keys()).intersection(words)\n",
    "print(\"The number of words that are present in both glove vectors and our coupus\", \\\n",
    "      len(inter_words),\"(\",np.round(len(inter_words)/len(words)*100,3),\"%)\")\n",
    "\n",
    "words_courpus = {}\n",
    "words_glove = set(model.keys())\n",
    "for i in words:\n",
    "    if i in words_glove:\n",
    "        words_courpus[i] = model[i]\n",
    "print(\"word 2 vec length\", len(words_courpus))\n",
    "\n",
    "\n",
    "# stronging variables into pickle files python: http://www.jessicayung.com/how-to-use-pickle-to-save-and-load-variables-in-python/\n",
    "\n",
    "import pickle\n",
    "with open('glove_vectors', 'wb') as f:\n",
    "    pickle.dump(words_courpus, f)\n",
    "\n",
    "\n",
    "'''"
   ]
  },
  {
   "cell_type": "code",
   "execution_count": 31,
   "metadata": {
    "colab": {},
    "colab_type": "code",
    "collapsed": true,
    "id": "Gu0YB3p4Cyo8"
   },
   "outputs": [],
   "source": [
    "# stronging variables into pickle files python: http://www.jessicayung.com/how-to-use-pickle-to-save-and-load-variables-in-python/\n",
    "# make sure you have the glove_vectors file\n",
    "with open('glove_vectors', 'rb') as f:\n",
    "    model = pickle.load(f)\n",
    "    glove_words =  set(model.keys())"
   ]
  },
  {
   "cell_type": "code",
   "execution_count": 32,
   "metadata": {
    "colab": {},
    "colab_type": "code",
    "id": "TEKi0VqVCyo_",
    "outputId": "23b34800-bc16-471c-c966-256d45cbdbcd",
    "scrolled": true
   },
   "outputs": [
    {
     "name": "stderr",
     "output_type": "stream",
     "text": [
      "100%|██████████████████████████████████████████████████████████████████████████| 32414/32414 [00:17<00:00, 1816.09it/s]\n"
     ]
    },
    {
     "name": "stdout",
     "output_type": "stream",
     "text": [
      "32414\n",
      "300\n"
     ]
    }
   ],
   "source": [
    "# average Word2Vec\n",
    "# compute average word2vec for each review.\n",
    "avg_w2v_vectors = []; # the avg-w2v for each sentence/review is stored in this list\n",
    "for sentence in tqdm(preprocessed_essays): # for each review/sentence\n",
    "    vector = np.zeros(300) # as word vectors are of zero length\n",
    "    cnt_words =0; # num of words with a valid vector in the sentence/review\n",
    "    for word in sentence.split(): # for each word in a review/sentence\n",
    "        if word in glove_words:\n",
    "            vector += model[word]\n",
    "            cnt_words += 1\n",
    "    if cnt_words != 0:\n",
    "        vector /= cnt_words\n",
    "    avg_w2v_vectors.append(vector)\n",
    "\n",
    "print(len(avg_w2v_vectors))\n",
    "print(len(avg_w2v_vectors[0]))"
   ]
  },
  {
   "cell_type": "markdown",
   "metadata": {
    "colab_type": "text",
    "id": "_s3QN_ZNCypD"
   },
   "source": [
    "#### 1.5.2.3 Using Pretrained Models: TFIDF weighted W2V"
   ]
  },
  {
   "cell_type": "code",
   "execution_count": 33,
   "metadata": {
    "colab": {},
    "colab_type": "code",
    "collapsed": true,
    "id": "nD56bsiRCypE"
   },
   "outputs": [],
   "source": [
    "# S = [\"abc def pqr\", \"def def def abc\", \"pqr pqr def\"]\n",
    "tfidf_model = TfidfVectorizer()\n",
    "tfidf_model.fit(preprocessed_essays)\n",
    "# we are converting a dictionary with word as a key, and the idf as a value\n",
    "dictionary = dict(zip(tfidf_model.get_feature_names(), list(tfidf_model.idf_)))\n",
    "tfidf_words = set(tfidf_model.get_feature_names())"
   ]
  },
  {
   "cell_type": "code",
   "execution_count": 34,
   "metadata": {
    "colab": {},
    "colab_type": "code",
    "id": "8aB83HDUCypL",
    "outputId": "c1329ce0-bc01-443f-f1c8-bd2ce2bd50f3",
    "scrolled": true
   },
   "outputs": [
    {
     "name": "stderr",
     "output_type": "stream",
     "text": [
      "100%|███████████████████████████████████████████████████████████████████████████| 32414/32414 [02:09<00:00, 249.70it/s]\n"
     ]
    },
    {
     "name": "stdout",
     "output_type": "stream",
     "text": [
      "32414\n",
      "300\n"
     ]
    }
   ],
   "source": [
    "# average Word2Vec\n",
    "# compute average word2vec for each review.\n",
    "tfidf_w2v_vectors = []; # the avg-w2v for each sentence/review is stored in this list\n",
    "for sentence in tqdm(preprocessed_essays): # for each review/sentence\n",
    "    vector = np.zeros(300) # as word vectors are of zero length\n",
    "    tf_idf_weight =0; # num of words with a valid vector in the sentence/review\n",
    "    for word in sentence.split(): # for each word in a review/sentence\n",
    "        if (word in glove_words) and (word in tfidf_words):\n",
    "            vec = model[word] # getting the vector for each word\n",
    "            # here we are multiplying idf value(dictionary[word]) and the tf value((sentence.count(word)/len(sentence.split())))\n",
    "            tf_idf = dictionary[word]*(sentence.count(word)/len(sentence.split())) # getting the tfidf value for each word\n",
    "            vector += (vec * tf_idf) # calculating tfidf weighted w2v\n",
    "            tf_idf_weight += tf_idf\n",
    "    if tf_idf_weight != 0:\n",
    "        vector /= tf_idf_weight\n",
    "    tfidf_w2v_vectors.append(vector)\n",
    "\n",
    "print(len(tfidf_w2v_vectors))\n",
    "print(len(tfidf_w2v_vectors[0]))"
   ]
  },
  {
   "cell_type": "code",
   "execution_count": 35,
   "metadata": {
    "colab": {},
    "colab_type": "code",
    "id": "yknBsjfOCypP"
   },
   "outputs": [
    {
     "name": "stdout",
     "output_type": "stream",
     "text": [
      "some sample features(unique words in the corpus) ['across', 'act', 'action', 'active', 'activities', 'activity', 'add', 'adding', 'adventure', 'adventures', 'after']\n",
      "Shape of matrix after one hot encodig  (32414, 1601)\n"
     ]
    }
   ],
   "source": [
    "# TFIDF on project titles\n",
    "titles_tfidf_vectorizer = TfidfVectorizer(min_df=10)\n",
    "titles_tfidf = titles_tfidf_vectorizer.fit_transform(preprocessed_titles)\n",
    "print(\"some sample features(unique words in the corpus)\",titles_tfidf_vectorizer.get_feature_names()[10:21])\n",
    "print(\"Shape of matrix after one hot encodig \",titles_tfidf.shape)"
   ]
  },
  {
   "cell_type": "code",
   "execution_count": 36,
   "metadata": {},
   "outputs": [
    {
     "name": "stderr",
     "output_type": "stream",
     "text": [
      "100%|█████████████████████████████████████████████████████████████████████████| 32414/32414 [00:00<00:00, 35564.23it/s]\n"
     ]
    },
    {
     "name": "stdout",
     "output_type": "stream",
     "text": [
      "32414\n",
      "300\n"
     ]
    }
   ],
   "source": [
    "# AVG W2V on project title\n",
    "avg_w2v_titles_vectors = [];\n",
    "\n",
    "for sentence in tqdm(preprocessed_titles):\n",
    "    \n",
    "    vector_titles = np.zeros(300)\n",
    "    cnt_words_titles = 0;\n",
    "    \n",
    "    for word in sentence.split():\n",
    "        \n",
    "        if word in glove_words:\n",
    "            \n",
    "            vector += model[word]\n",
    "            cnt_words_titles += 1\n",
    "            \n",
    "    if cnt_words_titles != 0:\n",
    "        \n",
    "        vector_titles /= cnt_words_titles\n",
    "        \n",
    "    avg_w2v_titles_vectors.append(vector_titles)\n",
    "\n",
    "print(len(avg_w2v_titles_vectors))\n",
    "print(len(avg_w2v_titles_vectors[0]))"
   ]
  },
  {
   "cell_type": "code",
   "execution_count": 37,
   "metadata": {
    "collapsed": true
   },
   "outputs": [],
   "source": [
    "# TFIDF weighted W2V on project_title\n",
    "titles_tfidf_model = TfidfVectorizer()\n",
    "titles_tfidf_model.fit(preprocessed_titles)\n",
    "titles_dictionary = dict(zip(titles_tfidf_model.get_feature_names(), list(titles_tfidf_model.idf_)))\n",
    "titles_tfidf_words = set(titles_tfidf_model.get_feature_names())\n",
    "\n"
   ]
  },
  {
   "cell_type": "code",
   "execution_count": 38,
   "metadata": {},
   "outputs": [
    {
     "name": "stderr",
     "output_type": "stream",
     "text": [
      "100%|█████████████████████████████████████████████████████████████████████████| 32414/32414 [00:01<00:00, 16402.83it/s]\n"
     ]
    },
    {
     "name": "stdout",
     "output_type": "stream",
     "text": [
      "32414\n",
      "300\n"
     ]
    }
   ],
   "source": [
    "titles_tfidf_w2v_vectors = [];\n",
    "\n",
    "for titles_sentence in tqdm(preprocessed_titles):\n",
    "    \n",
    "    titles_vector = np.zeros(300)\n",
    "    titles_tfidf_weight = 0;\n",
    "    \n",
    "    for word in titles_sentence.split():\n",
    "        \n",
    "        if (word in glove_words) and (word in titles_tfidf_words):\n",
    "            \n",
    "            titles_vec = model[word]\n",
    "            \n",
    "            titles_tf_idf = titles_dictionary[word]*(titles_sentence.count(word)/len(titles_sentence.split())) \n",
    "            titles_vector += (titles_vec * titles_tf_idf)\n",
    "            titles_tfidf_weight += titles_tf_idf\n",
    "            \n",
    "    if titles_tfidf_weight != 0:\n",
    "        \n",
    "        titles_vector /= titles_tfidf_weight\n",
    "        \n",
    "    titles_tfidf_w2v_vectors.append(titles_vector)\n",
    "\n",
    "print(len(titles_tfidf_w2v_vectors))\n",
    "print(len(titles_tfidf_w2v_vectors[0]))"
   ]
  },
  {
   "cell_type": "markdown",
   "metadata": {
    "colab_type": "text",
    "id": "6Em6Kb2-CypR"
   },
   "source": [
    "### 1.5.3 Vectorizing Numerical features"
   ]
  },
  {
   "cell_type": "code",
   "execution_count": 39,
   "metadata": {
    "colab": {},
    "colab_type": "code",
    "collapsed": true,
    "id": "dQunmy9FCypT"
   },
   "outputs": [],
   "source": [
    "price_data = resource_data.groupby('id').agg({'price':'sum', 'quantity':'sum'}).reset_index()\n",
    "project_data = pd.merge(project_data, price_data, on='id', how='left')"
   ]
  },
  {
   "cell_type": "code",
   "execution_count": 40,
   "metadata": {
    "colab": {},
    "colab_type": "code",
    "id": "owkbYbowCypV"
   },
   "outputs": [
    {
     "name": "stdout",
     "output_type": "stream",
     "text": [
      "Mean : 51.22791725797495, Standard deviation : 149.72149781041014\n"
     ]
    }
   ],
   "source": [
    "# check this one: https://www.youtube.com/watch?v=0HOqOcln3Z4&t=530s\n",
    "# standardization sklearn: https://scikit-learn.org/stable/modules/generated/sklearn.preprocessing.StandardScaler.html\n",
    "from sklearn.preprocessing import StandardScaler\n",
    "\n",
    "# price_standardized = standardScalar.fit(project_data['price'].values)\n",
    "# this will rise the error\n",
    "# ValueError: Expected 2D array, got 1D array instead: array=[725.05 213.03 329.   ... 399.   287.73   5.5 ].\n",
    "# Reshape your data either using array.reshape(-1, 1)\n",
    "\n",
    "price_scalar = StandardScaler()\n",
    "price_scalar.fit(project_data['price'].values.reshape(-1,1)) # finding the mean and standard deviation of this data\n",
    "print(f\"Mean : {price_scalar.mean_[0]}, Standard deviation : {np.sqrt(price_scalar.var_[0])}\")\n",
    "\n",
    "# Now standardize the data with above maen and variance.\n",
    "price_standardized = price_scalar.transform(project_data['price'].values.reshape(-1, 1))"
   ]
  },
  {
   "cell_type": "code",
   "execution_count": 41,
   "metadata": {
    "colab": {},
    "colab_type": "code",
    "id": "nDDZIfdhCypY",
    "outputId": "e73bc12f-c914-4c9d-d110-76f67954b630"
   },
   "outputs": [
    {
     "data": {
      "text/plain": [
       "array([[-0.27543084],\n",
       "       [-0.30882617],\n",
       "       [-0.19407979],\n",
       "       ..., \n",
       "       [-0.20890732],\n",
       "       [-0.13343386],\n",
       "       [-0.29880757]])"
      ]
     },
     "execution_count": 41,
     "metadata": {},
     "output_type": "execute_result"
    }
   ],
   "source": [
    "price_standardized"
   ]
  },
  {
   "cell_type": "markdown",
   "metadata": {
    "colab_type": "text",
    "id": "5UbaJH21Cypa"
   },
   "source": [
    "### 1.5.4 Merging all the above features"
   ]
  },
  {
   "cell_type": "markdown",
   "metadata": {
    "colab_type": "text",
    "id": "fAZixvIeCypb"
   },
   "source": [
    "- we need to merge all the numerical vectors i.e catogorical, text, numerical vectors"
   ]
  },
  {
   "cell_type": "code",
   "execution_count": 42,
   "metadata": {
    "colab": {},
    "colab_type": "code",
    "id": "2fhOtv0eCypc",
    "outputId": "d0e65dce-ef82-412d-8db5-ec35535ee23c"
   },
   "outputs": [
    {
     "name": "stdout",
     "output_type": "stream",
     "text": [
      "(32414, 9)\n",
      "(32414, 30)\n",
      "(32414, 10197)\n",
      "(32414, 1)\n"
     ]
    }
   ],
   "source": [
    "print(categories_one_hot.shape)\n",
    "print(sub_categories_one_hot.shape)\n",
    "print(text_bow.shape)\n",
    "print(price_standardized.shape)"
   ]
  },
  {
   "cell_type": "code",
   "execution_count": 43,
   "metadata": {
    "colab": {},
    "colab_type": "code",
    "id": "J7uuEmryCype",
    "outputId": "b0360c1d-592a-4bd7-b8c7-a20d91219fa8"
   },
   "outputs": [
    {
     "data": {
      "text/plain": [
       "(32414, 10237)"
      ]
     },
     "execution_count": 43,
     "metadata": {},
     "output_type": "execute_result"
    }
   ],
   "source": [
    "# merge two sparse matrices: https://stackoverflow.com/a/19710648/4084039\n",
    "from scipy.sparse import hstack\n",
    "# with the same hstack function we are concatinating a sparse matrix and a dense matirx :)\n",
    "X = hstack((categories_one_hot, sub_categories_one_hot, text_bow, price_standardized))\n",
    "X.shape"
   ]
  },
  {
   "cell_type": "markdown",
   "metadata": {
    "colab_type": "text",
    "id": "V3vrK7BSCypi"
   },
   "source": [
    "# Assignment 3: Apply KNN"
   ]
  },
  {
   "cell_type": "markdown",
   "metadata": {
    "colab_type": "text",
    "id": "WFI1ug-gCypi"
   },
   "source": [
    "<ol>\n",
    "    <li><strong>[Task-1] Apply KNN(brute force version) on these feature sets</strong>\n",
    "        <ul>\n",
    "            <li><font color='red'>Set 1</font>: categorical, numerical features + project_title(BOW) + preprocessed_essay (BOW)</li>\n",
    "            <li><font color='red'>Set 2</font>: categorical, numerical features + project_title(TFIDF)+  preprocessed_essay (TFIDF)</li>\n",
    "            <li><font color='red'>Set 3</font>: categorical, numerical features + project_title(AVG W2V)+  preprocessed_essay (AVG W2V)</li>\n",
    "            <li><font color='red'>Set 4</font>: categorical, numerical features + project_title(TFIDF W2V)+  preprocessed_essay (TFIDF W2V)</li>\n",
    "        </ul>\n",
    "    </li>\n",
    "    <br>\n",
    "    <li><strong>Hyper paramter tuning to find best K</strong>\n",
    "        <ul>\n",
    "    <li>Find the best hyper parameter which results in the maximum <a href='https://www.appliedaicourse.com/course/applied-ai-course-online/lessons/receiver-operating-characteristic-curve-roc-curve-and-auc-1/'>AUC</a> value</li>\n",
    "    <li>Find the best hyper paramter using k-fold cross validation (or) simple cross validation data</li>\n",
    "    <li>Use gridsearch-cv or randomsearch-cv or  write your own for loops to do this task</li>\n",
    "        </ul>\n",
    "    </li>\n",
    "    <br>\n",
    "    <li>\n",
    "    <strong>Representation of results</strong>\n",
    "        <ul>\n",
    "    <li>You need to plot the performance of model both on train data and cross validation data for each hyper parameter, as shown in the figure\n",
    "    <img src='train_cv_auc.JPG' width=300px></li>\n",
    "    <li>Once you find the best hyper parameter, you need to train your model-M using the best hyper-param. Now, find the AUC on test data and plot the ROC curve on both train and test using model-M.\n",
    "    <img src='train_test_auc.JPG' width=300px></li>\n",
    "    <li>Along with plotting ROC curve, you need to print the <a href='https://www.appliedaicourse.com/course/applied-ai-course-online/lessons/confusion-matrix-tpr-fpr-fnr-tnr-1/'>confusion matrix</a> with predicted and original labels of test data points\n",
    "    <img src='confusion_matrix.png' width=300px></li>\n",
    "        </ul>\n",
    "    </li>\n",
    "    <li><strong> [Task-2] </strong>\n",
    "        <ul>\n",
    "            <li>Select top 2000 features from feature <font color='red'>Set 2</font> using <a href='https://scikit-learn.org/stable/modules/generated/sklearn.feature_selection.SelectKBest.html'>`SelectKBest`</a>\n",
    "and then apply KNN on top of these features</li>\n",
    "            <li>\n",
    "                <pre>\n",
    "                from sklearn.datasets import load_digits\n",
    "                from sklearn.feature_selection import SelectKBest, chi2\n",
    "                X, y = load_digits(return_X_y=True)\n",
    "                X.shape\n",
    "                X_new = SelectKBest(chi2, k=20).fit_transform(X, y)\n",
    "                X_new.shape\n",
    "                ========\n",
    "                output:\n",
    "                (1797, 64)\n",
    "                (1797, 20)\n",
    "                </pre>\n",
    "            </li>\n",
    "            <li>Repeat the steps 2 and 3 on the data matrix after feature selection</li>\n",
    "        </ul>\n",
    "    </li>\n",
    "    <br>\n",
    "    <li><strong>Conclusion</strong>\n",
    "        <ul>\n",
    "    <li>You need to summarize the results at the end of the notebook, summarize it in the table format. To print out a table please refer to this prettytable library<a href='http://zetcode.com/python/prettytable/'> link</a> \n",
    "        <img src='summary.JPG' width=400px>\n",
    "    </li>\n",
    "        </ul>\n",
    "</ol>"
   ]
  },
  {
   "cell_type": "markdown",
   "metadata": {
    "colab_type": "text",
    "id": "vNcsOaPrCypk"
   },
   "source": [
    "<h4><font color='red'>Note: Data Leakage</font></h4>\n",
    "\n",
    "1. There will be an issue of data-leakage if you vectorize the entire data and then split it into train/cv/test.\n",
    "2. To avoid the issue of data-leakag, make sure to split your data first and then vectorize it. \n",
    "3. While vectorizing your data, apply the method fit_transform() on you train data, and apply the method transform() on cv/test data.\n",
    "4. For more details please go through this <a href='https://soundcloud.com/applied-ai-course/leakage-bow-and-tfidf'>link.</a>"
   ]
  },
  {
   "cell_type": "markdown",
   "metadata": {
    "colab_type": "text",
    "id": "u7svGNyWCypl"
   },
   "source": [
    "<h1>2. K Nearest Neighbor</h1>"
   ]
  },
  {
   "cell_type": "markdown",
   "metadata": {
    "colab_type": "text",
    "id": "W6fBRNBMCypl"
   },
   "source": [
    "<h2>2.1 Splitting data into Train and cross validation(or test): Stratified Sampling</h2>"
   ]
  },
  {
   "cell_type": "code",
   "execution_count": 44,
   "metadata": {
    "colab": {},
    "colab_type": "code",
    "id": "WACKQWT_Cypl"
   },
   "outputs": [
    {
     "data": {
      "text/html": [
       "<div>\n",
       "<style>\n",
       "    .dataframe thead tr:only-child th {\n",
       "        text-align: right;\n",
       "    }\n",
       "\n",
       "    .dataframe thead th {\n",
       "        text-align: left;\n",
       "    }\n",
       "\n",
       "    .dataframe tbody tr th {\n",
       "        vertical-align: top;\n",
       "    }\n",
       "</style>\n",
       "<table border=\"1\" class=\"dataframe\">\n",
       "  <thead>\n",
       "    <tr style=\"text-align: right;\">\n",
       "      <th></th>\n",
       "      <th>Unnamed: 0</th>\n",
       "      <th>id</th>\n",
       "      <th>teacher_id</th>\n",
       "      <th>teacher_prefix</th>\n",
       "      <th>school_state</th>\n",
       "      <th>Date</th>\n",
       "      <th>project_grade_category</th>\n",
       "      <th>project_title</th>\n",
       "      <th>project_essay_1</th>\n",
       "      <th>project_essay_2</th>\n",
       "      <th>project_essay_3</th>\n",
       "      <th>project_essay_4</th>\n",
       "      <th>project_resource_summary</th>\n",
       "      <th>teacher_number_of_previously_posted_projects</th>\n",
       "      <th>clean_categories</th>\n",
       "      <th>clean_subcategories</th>\n",
       "      <th>essay</th>\n",
       "      <th>price</th>\n",
       "      <th>quantity</th>\n",
       "    </tr>\n",
       "  </thead>\n",
       "  <tbody>\n",
       "    <tr>\n",
       "      <th>0</th>\n",
       "      <td>47750</td>\n",
       "      <td>p185738</td>\n",
       "      <td>3afe10b996b7646d8641985a4b4b570d</td>\n",
       "      <td>Mrs.</td>\n",
       "      <td>UT</td>\n",
       "      <td>2016-01-05 01:05:00</td>\n",
       "      <td>Grades PreK-2</td>\n",
       "      <td>Math is Fun!</td>\n",
       "      <td>\\\"The only way to learn mathematics is to do m...</td>\n",
       "      <td>My students love coming to school and working ...</td>\n",
       "      <td>My students will be using these math manipulat...</td>\n",
       "      <td>Learning about money is important so the stude...</td>\n",
       "      <td>My students need base ten blocks, realistic pl...</td>\n",
       "      <td>0</td>\n",
       "      <td>Math_Science</td>\n",
       "      <td>Mathematics</td>\n",
       "      <td>\\\"The only way to learn mathematics is to do m...</td>\n",
       "      <td>9.99</td>\n",
       "      <td>2</td>\n",
       "    </tr>\n",
       "  </tbody>\n",
       "</table>\n",
       "</div>"
      ],
      "text/plain": [
       "   Unnamed: 0       id                        teacher_id teacher_prefix  \\\n",
       "0       47750  p185738  3afe10b996b7646d8641985a4b4b570d           Mrs.   \n",
       "\n",
       "  school_state                Date project_grade_category project_title  \\\n",
       "0           UT 2016-01-05 01:05:00          Grades PreK-2  Math is Fun!   \n",
       "\n",
       "                                     project_essay_1  \\\n",
       "0  \\\"The only way to learn mathematics is to do m...   \n",
       "\n",
       "                                     project_essay_2  \\\n",
       "0  My students love coming to school and working ...   \n",
       "\n",
       "                                     project_essay_3  \\\n",
       "0  My students will be using these math manipulat...   \n",
       "\n",
       "                                     project_essay_4  \\\n",
       "0  Learning about money is important so the stude...   \n",
       "\n",
       "                            project_resource_summary  \\\n",
       "0  My students need base ten blocks, realistic pl...   \n",
       "\n",
       "   teacher_number_of_previously_posted_projects clean_categories  \\\n",
       "0                                             0     Math_Science   \n",
       "\n",
       "  clean_subcategories                                              essay  \\\n",
       "0         Mathematics  \\\"The only way to learn mathematics is to do m...   \n",
       "\n",
       "   price  quantity  \n",
       "0   9.99         2  "
      ]
     },
     "execution_count": 44,
     "metadata": {},
     "output_type": "execute_result"
    }
   ],
   "source": [
    "approved_project = project_data['project_is_approved'].values\n",
    "project_data.drop(['project_is_approved'], axis=1, inplace=True)\n",
    "project_data.head(1)"
   ]
  },
  {
   "cell_type": "code",
   "execution_count": 45,
   "metadata": {
    "collapsed": true
   },
   "outputs": [],
   "source": [
    "# Data splitting\n",
    "\n",
    "from sklearn.model_selection import train_test_split\n",
    "\n",
    "# Splitting in train and test\n",
    "X_train, X_test, y_train, y_test = train_test_split(project_data, approved_project, test_size=0.33, stratify=approved_project)\n",
    "\n",
    "# Splitting in Train Test and Cross Validation\n",
    "X_train, X_cv, y_train, y_cv = train_test_split(X_train, y_train, test_size=0.33, stratify=y_train)\n"
   ]
  },
  {
   "cell_type": "markdown",
   "metadata": {
    "colab_type": "text",
    "id": "VG7SrQdCCypn"
   },
   "source": [
    "<h2>2.2 Make Data Model Ready: encoding numerical, categorical features</h2>"
   ]
  },
  {
   "cell_type": "code",
   "execution_count": 46,
   "metadata": {
    "colab": {},
    "colab_type": "code",
    "id": "cTlBv2kmCypo"
   },
   "outputs": [
    {
     "name": "stdout",
     "output_type": "stream",
     "text": [
      "Shape of train matrix after one hot encodig  (14550, 9)\n",
      "Shape of test matrix after one hot encodig  (10697, 9)\n",
      "Shape of cv matrix after one hot encodig  (7167, 9)\n"
     ]
    }
   ],
   "source": [
    "# Vectorizing Categories on Train, Test and CV data\n",
    "from sklearn.feature_extraction.text import CountVectorizer\n",
    "\n",
    "vectorizer = CountVectorizer(vocabulary=list(sorted_cat_dict.keys()), lowercase=False, binary=True)\n",
    "\n",
    "# Fit only to train data\n",
    "vectorizer.fit(X_train['clean_categories'].values)\n",
    "\n",
    "# Transform to train,test and CV data\n",
    "X_Train_categories_one_hot = vectorizer.transform(X_train['clean_categories'].values)\n",
    "X_Test_categories_one_hot = vectorizer.transform(X_test['clean_categories'].values)\n",
    "X_CV_categories_one_hot = vectorizer.transform(X_cv['clean_categories'].values)\n",
    "\n",
    "print(\"Shape of train matrix after one hot encodig \",X_Train_categories_one_hot.shape)\n",
    "print(\"Shape of test matrix after one hot encodig \",X_Test_categories_one_hot.shape)\n",
    "print(\"Shape of cv matrix after one hot encodig \",X_CV_categories_one_hot.shape)"
   ]
  },
  {
   "cell_type": "code",
   "execution_count": 47,
   "metadata": {},
   "outputs": [
    {
     "name": "stdout",
     "output_type": "stream",
     "text": [
      "Shape of train matrix after one hot encodig  (14550, 30)\n",
      "Shape of test matrix after one hot encodig  (10697, 30)\n",
      "Shape of cv matrix after one hot encodig  (7167, 30)\n"
     ]
    }
   ],
   "source": [
    "# Vectorizing subcategories on train, test and cv\n",
    "\n",
    "vectorizer = CountVectorizer(vocabulary=list(sorted_sub_cat_dict.keys()), lowercase=False, binary=True)\n",
    "vectorizer.fit(X_train['clean_subcategories'].values)\n",
    "\n",
    "X_Train_sub_categories_one_hot = vectorizer.transform(X_train['clean_subcategories'].values)\n",
    "X_Test_sub_categories_one_hot = vectorizer.transform(X_test['clean_subcategories'].values)\n",
    "X_CV_sub_categories_one_hot = vectorizer.transform(X_cv['clean_subcategories'].values)\n",
    "\n",
    "print(\"Shape of train matrix after one hot encodig \",X_Train_sub_categories_one_hot.shape)\n",
    "print(\"Shape of test matrix after one hot encodig \",X_Test_sub_categories_one_hot.shape)\n",
    "print(\"Shape of cv matrix after one hot encodig \",X_CV_sub_categories_one_hot.shape)"
   ]
  },
  {
   "cell_type": "code",
   "execution_count": 48,
   "metadata": {},
   "outputs": [
    {
     "name": "stdout",
     "output_type": "stream",
     "text": [
      "['AK', 'AL', 'AR', 'AZ', 'CA', 'CO', 'CT', 'DC', 'DE', 'FL', 'GA', 'HI', 'IA', 'ID', 'IL', 'IN', 'KS', 'KY', 'LA', 'MA', 'MD', 'ME', 'MI', 'MN', 'MO', 'MS', 'MT', 'NC', 'ND', 'NE', 'NH', 'NJ', 'NM', 'NV', 'NY', 'OH', 'OK', 'OR', 'PA', 'RI', 'SC', 'SD', 'TN', 'TX', 'UT', 'VA', 'VT', 'WA', 'WI', 'WV', 'WY']\n",
      "Shape of train matrix after one hot encodig  (14550, 51)\n",
      "Shape of test matrix after one hot encodig  (10697, 51)\n",
      "Shape of cv matrix after one hot encodig  (7167, 51)\n",
      "the type of count vectorizer  <class 'scipy.sparse.csr.csr_matrix'>\n",
      "the type of count vectorizer  <class 'scipy.sparse.csr.csr_matrix'>\n",
      "the type of count vectorizer  <class 'scipy.sparse.csr.csr_matrix'>\n"
     ]
    }
   ],
   "source": [
    "# Vectorizing school state on train , test and cv\n",
    "\n",
    "school_state_vectorizer = CountVectorizer(lowercase=False, binary=True)\n",
    "\n",
    "school_state_vectorizer.fit(X_train['school_state'].values)\n",
    "print(school_state_vectorizer.get_feature_names())\n",
    "\n",
    "X_Train_school_state_one_hot = school_state_vectorizer.transform(X_train['school_state'].values)\n",
    "X_Test_school_state_one_hot = school_state_vectorizer.transform(X_test['school_state'].values)\n",
    "X_CV_school_state_one_hot = school_state_vectorizer.transform(X_cv['school_state'].values)\n",
    "\n",
    "print(\"Shape of train matrix after one hot encodig \",X_Train_school_state_one_hot.shape)\n",
    "print(\"Shape of test matrix after one hot encodig \",X_Test_school_state_one_hot.shape)\n",
    "print(\"Shape of cv matrix after one hot encodig \",X_CV_school_state_one_hot.shape)\n",
    "\n",
    "print(\"the type of count vectorizer \",type(X_Train_school_state_one_hot))\n",
    "print(\"the type of count vectorizer \",type(X_Test_school_state_one_hot))\n",
    "print(\"the type of count vectorizer \",type(X_CV_school_state_one_hot))"
   ]
  },
  {
   "cell_type": "code",
   "execution_count": 49,
   "metadata": {},
   "outputs": [
    {
     "name": "stdout",
     "output_type": "stream",
     "text": [
      "['Mr', 'Mrs', 'Ms', 'No_Prefix', 'Teacher']\n",
      "Shape of train matrix after one hot encodig  (14550, 5)\n",
      "Shape of test matrix after one hot encodig  (10697, 5)\n",
      "Shape of cv matrix after one hot encodig  (7167, 5)\n"
     ]
    }
   ],
   "source": [
    "# Vectorizing teacher prefix on train , test and cv\n",
    "\n",
    "project_data[\"teacher_prefix\"].fillna(\"No_Prefix\", inplace = True)\n",
    "    \n",
    "teacher_prefix_vectorizer = CountVectorizer(lowercase=False, binary=True)\n",
    "teacher_prefix_vectorizer.fit(X_train['teacher_prefix'].values)\n",
    "\n",
    "print(teacher_prefix_vectorizer.get_feature_names())\n",
    "\n",
    "X_Train_teacher_prefix_one_hot = teacher_prefix_vectorizer.transform(X_train['teacher_prefix'].values)\n",
    "X_Test_teacher_prefix_one_hot = teacher_prefix_vectorizer.transform(X_test['teacher_prefix'].values)\n",
    "X_CV_teacher_prefix_one_hot = teacher_prefix_vectorizer.transform(X_cv['teacher_prefix'].values)\n",
    "\n",
    "print(\"Shape of train matrix after one hot encodig \",X_Train_teacher_prefix_one_hot.shape)\n",
    "print(\"Shape of test matrix after one hot encodig \",X_Test_teacher_prefix_one_hot.shape)\n",
    "print(\"Shape of cv matrix after one hot encodig \",X_CV_teacher_prefix_one_hot.shape)\n"
   ]
  },
  {
   "cell_type": "code",
   "execution_count": 50,
   "metadata": {},
   "outputs": [
    {
     "name": "stdout",
     "output_type": "stream",
     "text": [
      "['9-12', '6-8', '3-5', 'PreK-2', 'Grades']\n",
      "Shape of train matrix after one hot encodig  (14550, 5)\n",
      "Shape of test matrix after one hot encodig  (10697, 5)\n",
      "Shape of cv matrix after one hot encodig  (7167, 5)\n"
     ]
    }
   ],
   "source": [
    "# Vectorizing grade category on train , test and cv\n",
    "\n",
    "my_grade_counter = Counter()\n",
    "\n",
    "for project_grade in project_data['project_grade_category'].values:\n",
    "    my_grade_counter.update(project_grade.split())\n",
    "    \n",
    "project_grade_cat_dict = dict(my_grade_counter)\n",
    "sorted_project_grade_cat_dict = dict(sorted(project_grade_cat_dict.items(), key=lambda kv: kv[1]))\n",
    "    \n",
    "grade_cat_vectorizer = CountVectorizer(vocabulary=list(sorted_project_grade_cat_dict.keys()), lowercase=False, binary=True)\n",
    "grade_cat_vectorizer.fit(X_train['project_grade_category'].values)\n",
    "print(grade_cat_vectorizer.get_feature_names())\n",
    "\n",
    "X_Train_grade_cat_one_hot = grade_cat_vectorizer.transform(X_train['project_grade_category'].values)\n",
    "X_Test_grade_cat_one_hot = grade_cat_vectorizer.transform(X_test['project_grade_category'].values)\n",
    "X_CV_grade_cat_one_hot = grade_cat_vectorizer.transform(X_cv['project_grade_category'].values)\n",
    "\n",
    "print(\"Shape of train matrix after one hot encodig \",X_Train_grade_cat_one_hot.shape)\n",
    "print(\"Shape of test matrix after one hot encodig \",X_Test_grade_cat_one_hot.shape)\n",
    "print(\"Shape of cv matrix after one hot encodig \",X_CV_grade_cat_one_hot.shape)"
   ]
  },
  {
   "cell_type": "markdown",
   "metadata": {
    "colab_type": "text",
    "id": "V8pUeQFiCypq"
   },
   "source": [
    "<h2>2.3 Make Data Model Ready: encoding eassay, and project_title</h2>"
   ]
  },
  {
   "cell_type": "code",
   "execution_count": 51,
   "metadata": {
    "collapsed": true
   },
   "outputs": [],
   "source": [
    "# merge two column text dataframe: \n",
    "X_train[\"essay\"] = X_train[\"project_essay_1\"].map(str) +\\\n",
    "                        X_train[\"project_essay_2\"].map(str) + \\\n",
    "                        X_train[\"project_essay_3\"].map(str) + \\\n",
    "                        X_train[\"project_essay_4\"].map(str)"
   ]
  },
  {
   "cell_type": "code",
   "execution_count": 52,
   "metadata": {},
   "outputs": [
    {
     "name": "stderr",
     "output_type": "stream",
     "text": [
      "100%|███████████████████████████████████████████████████████████████████████████| 14550/14550 [00:15<00:00, 921.55it/s]\n"
     ]
    }
   ],
   "source": [
    "# preprocessing essay train data\n",
    "from tqdm import tqdm\n",
    "X_Train_preprocessed_essays = []\n",
    "# tqdm is for printing the status bar\n",
    "for sentence in tqdm(X_train['essay'].values):\n",
    "    X_Train_essay_sent = decontracted(sentance)\n",
    "    X_Train_essay_sent = X_Train_essay_sent.replace('\\\\r', ' ')\n",
    "    X_Train_essay_sent = X_Train_essay_sent.replace('\\\\\"', ' ')\n",
    "    X_Train_essay_sent = X_Train_essay_sent.replace('\\\\n', ' ')\n",
    "    X_Train_essay_sent = re.sub('[^A-Za-z0-9]+', ' ', X_Train_essay_sent)\n",
    "    \n",
    "    X_Train_essay_sent = ' '.join(e for e in X_Train_essay_sent.split() if e.lower() not in stopwords)\n",
    "    X_Train_preprocessed_essays.append(X_Train_essay_sent.lower().strip())"
   ]
  },
  {
   "cell_type": "code",
   "execution_count": 53,
   "metadata": {},
   "outputs": [
    {
     "name": "stderr",
     "output_type": "stream",
     "text": [
      "100%|███████████████████████████████████████████████████████████████████████████| 10697/10697 [00:12<00:00, 827.55it/s]\n"
     ]
    }
   ],
   "source": [
    "# preprocessing essay test data\n",
    "from tqdm import tqdm\n",
    "X_Test_preprocessed_essays = []\n",
    "# tqdm is for printing the status bar\n",
    "for sentence in tqdm(X_test['essay'].values):\n",
    "    X_Test_essay_sent = decontracted(sentence)\n",
    "    X_Test_essay_sent = X_Test_essay_sent.replace('\\\\r', ' ')\n",
    "    X_Test_essay_sent = X_Test_essay_sent.replace('\\\\\"', ' ')\n",
    "    X_Test_essay_sent = X_Test_essay_sent.replace('\\\\n', ' ')\n",
    "    X_Test_essay_sent = re.sub('[^A-Za-z0-9]+', ' ', X_Test_essay_sent)\n",
    "    \n",
    "    X_Test_essay_sent = ' '.join(e for e in X_Test_essay_sent.split() if e.lower() not in stopwords)\n",
    "    X_Test_preprocessed_essays.append(X_Test_essay_sent.lower().strip())"
   ]
  },
  {
   "cell_type": "code",
   "execution_count": 54,
   "metadata": {},
   "outputs": [
    {
     "name": "stderr",
     "output_type": "stream",
     "text": [
      "100%|█████████████████████████████████████████████████████████████████████████████| 7167/7167 [00:08<00:00, 841.60it/s]\n"
     ]
    }
   ],
   "source": [
    "# preprocessing essay cv data\n",
    "from tqdm import tqdm\n",
    "X_CV_preprocessed_essays = []\n",
    "# tqdm is for printing the status bar\n",
    "for sentence in tqdm(X_cv['essay'].values):\n",
    "    X_CV_essay_sent = decontracted(sentence)\n",
    "    X_CV_essay_sent = X_CV_essay_sent.replace('\\\\r', ' ')\n",
    "    X_CV_essay_sent = X_CV_essay_sent.replace('\\\\\"', ' ')\n",
    "    X_CV_essay_sent = X_CV_essay_sent.replace('\\\\n', ' ')\n",
    "    X_CV_essay_sent = re.sub('[^A-Za-z0-9]+', ' ', X_CV_essay_sent)\n",
    "    \n",
    "    X_CV_essay_sent = ' '.join(e for e in X_CV_essay_sent.split() if e.lower() not in stopwords)\n",
    "    X_CV_preprocessed_essays.append(X_CV_essay_sent.lower().strip())"
   ]
  },
  {
   "cell_type": "code",
   "execution_count": 55,
   "metadata": {},
   "outputs": [
    {
     "name": "stderr",
     "output_type": "stream",
     "text": [
      "100%|█████████████████████████████████████████████████████████████████████████| 14550/14550 [00:00<00:00, 16032.20it/s]\n"
     ]
    }
   ],
   "source": [
    "# preprocessing project title train data\n",
    "X_Train_preprocessed_titles = []\n",
    "\n",
    "for dataset in tqdm(X_train['project_title'].values):\n",
    "    data = decontracted(dataset)  # Replacing some specific and general short form into proper word/stopword.\n",
    "    data = re.sub(r\"it's\", \"it is\", data) # Replacing it's with it is as it is not part of function decontracted\n",
    "    data = data.replace('\\\\r', ' ') # Replacing \\r with space\n",
    "    data = data.replace('\\\\\"', ' ') # Replacing \\ with space\n",
    "    data = data.replace('\\\\n', ' ') # Replacing \\n with space\n",
    "    data = re.sub('[^A-Za-z0-9]+', ' ', data) # Replacing special characters with space\n",
    "    data = re.sub(\"\\S*\\d\\S*\", \"\", data).strip() # Trimming numbers containing digits\n",
    "    \n",
    "    data = ' '.join(e for e in data.split() if e not in stopwords) # Removing stopwords \n",
    "    X_Train_preprocessed_titles.append(data.lower().strip()) # Creating array in all the lower cases. "
   ]
  },
  {
   "cell_type": "code",
   "execution_count": 56,
   "metadata": {},
   "outputs": [
    {
     "name": "stderr",
     "output_type": "stream",
     "text": [
      "100%|█████████████████████████████████████████████████████████████████████████| 10697/10697 [00:00<00:00, 16778.35it/s]\n"
     ]
    }
   ],
   "source": [
    "# preprocessing project title test data\n",
    "X_Test_preprocessed_titles = []\n",
    "\n",
    "for dataset in tqdm(X_test['project_title'].values):\n",
    "    data = decontracted(dataset)  # Replacing some specific and general short form into proper word/stopword.\n",
    "    data = re.sub(r\"it's\", \"it is\", data) # Replacing it's with it is as it is not part of function decontracted\n",
    "    data = data.replace('\\\\r', ' ') # Replacing \\r with space\n",
    "    data = data.replace('\\\\\"', ' ') # Replacing \\ with space\n",
    "    data = data.replace('\\\\n', ' ') # Replacing \\n with space\n",
    "    data = re.sub('[^A-Za-z0-9]+', ' ', data) # Replacing special characters with space\n",
    "    data = re.sub(\"\\S*\\d\\S*\", \"\", data).strip() # Trimming numbers containing digits\n",
    "    \n",
    "    data = ' '.join(e for e in data.split() if e not in stopwords) # Removing stopwords \n",
    "    X_Test_preprocessed_titles.append(data.lower().strip()) # Creating array in all the lower cases. "
   ]
  },
  {
   "cell_type": "code",
   "execution_count": 57,
   "metadata": {},
   "outputs": [
    {
     "name": "stderr",
     "output_type": "stream",
     "text": [
      "100%|███████████████████████████████████████████████████████████████████████████| 7167/7167 [00:00<00:00, 17217.05it/s]\n"
     ]
    }
   ],
   "source": [
    "# preprocessing project title cv data\n",
    "X_CV_preprocessed_titles = []\n",
    "\n",
    "for dataset in tqdm(X_cv['project_title'].values):\n",
    "    data = decontracted(dataset)  # Replacing some specific and general short form into proper word/stopword.\n",
    "    data = re.sub(r\"it's\", \"it is\", data) # Replacing it's with it is as it is not part of function decontracted\n",
    "    data = data.replace('\\\\r', ' ') # Replacing \\r with space\n",
    "    data = data.replace('\\\\\"', ' ') # Replacing \\ with space\n",
    "    data = data.replace('\\\\n', ' ') # Replacing \\n with space\n",
    "    data = re.sub('[^A-Za-z0-9]+', ' ', data) # Replacing special characters with space\n",
    "    data = re.sub(\"\\S*\\d\\S*\", \"\", data).strip() # Trimming numbers containing digits\n",
    "    \n",
    "    data = ' '.join(e for e in data.split() if e not in stopwords) # Removing stopwords \n",
    "    X_CV_preprocessed_titles.append(data.lower().strip()) # Creating array in all the lower cases. "
   ]
  },
  {
   "cell_type": "code",
   "execution_count": 58,
   "metadata": {},
   "outputs": [
    {
     "name": "stdout",
     "output_type": "stream",
     "text": [
      "Shape of train matrix after one hot encodig  (14550, 92)\n",
      "Shape of test matrix after one hot encodig  (10697, 92)\n",
      "Shape of CV matrix after one hot encodig  (7167, 92)\n"
     ]
    }
   ],
   "source": [
    "# BOW Essay train, test and cv data\n",
    "# We are considering only the words which appeared in at least 10 documents(rows or projects).\n",
    "vectorizer = CountVectorizer(min_df=10)\n",
    "vectorizer.fit(X_Train_preprocessed_essays)\n",
    "\n",
    "X_Train_essay_bow = vectorizer.transform(X_Train_preprocessed_essays)\n",
    "X_Test_essay_bow = vectorizer.transform(X_Test_preprocessed_essays)\n",
    "X_CV_essay_bow = vectorizer.transform(X_CV_preprocessed_essays)\n",
    "\n",
    "print(\"Shape of train matrix after one hot encodig \",X_Train_essay_bow.shape)\n",
    "print(\"Shape of test matrix after one hot encodig \",X_Test_essay_bow.shape)\n",
    "print(\"Shape of CV matrix after one hot encodig \",X_CV_essay_bow.shape)"
   ]
  },
  {
   "cell_type": "code",
   "execution_count": 59,
   "metadata": {},
   "outputs": [
    {
     "name": "stdout",
     "output_type": "stream",
     "text": [
      "some sample features(unique words in the corpus) ['about', 'academic', 'access', 'achievement', 'action', 'active', 'activities', 'activity', 'adding', 'adventure']\n",
      "Shape of train matrix after one hot encodig  (14550, 898)\n",
      "Shape of test matrix after one hot encodig  (10697, 898)\n",
      "Shape of CV matrix after one hot encodig  (7167, 898)\n"
     ]
    }
   ],
   "source": [
    "# BOW title train,test and cv data\n",
    "\n",
    "titles_vectorizer = CountVectorizer(min_df=10)\n",
    "titles_vectorizer.fit(X_Train_preprocessed_titles)\n",
    "\n",
    "X_Train_titles_bow = titles_vectorizer.transform(X_Train_preprocessed_titles)\n",
    "X_Test_titles_bow = titles_vectorizer.transform(X_Test_preprocessed_titles)\n",
    "X_CV_titles_bow = titles_vectorizer.transform(X_CV_preprocessed_titles)\n",
    "\n",
    "print(\"some sample features(unique words in the corpus)\",titles_vectorizer.get_feature_names()[0:10])\n",
    "print(\"Shape of train matrix after one hot encodig \",X_Train_titles_bow.shape)\n",
    "print(\"Shape of test matrix after one hot encodig \",X_Test_titles_bow.shape)\n",
    "print(\"Shape of CV matrix after one hot encodig \",X_CV_titles_bow.shape)\n"
   ]
  },
  {
   "cell_type": "code",
   "execution_count": 60,
   "metadata": {},
   "outputs": [
    {
     "name": "stdout",
     "output_type": "stream",
     "text": [
      "Shape of train matrix after one hot encodig  (14550, 92)\n",
      "Shape of test matrix after one hot encodig  (10697, 92)\n",
      "Shape of CV matrix after one hot encodig  (7167, 92)\n"
     ]
    }
   ],
   "source": [
    "#TFIDF essay train,test and cv data\n",
    "\n",
    "vectorizer = TfidfVectorizer(min_df=10)\n",
    "vectorizer.fit(X_Train_preprocessed_essays)\n",
    "\n",
    "X_Train_essay_tfidf = vectorizer.transform(X_Train_preprocessed_essays)\n",
    "X_Test_essay_tfidf = vectorizer.transform(X_Test_preprocessed_essays)\n",
    "X_CV_essay_tfidf = vectorizer.transform(X_CV_preprocessed_essays)\n",
    "\n",
    "print(\"Shape of train matrix after one hot encodig \",X_Train_essay_tfidf.shape)\n",
    "print(\"Shape of test matrix after one hot encodig \",X_Test_essay_tfidf.shape)\n",
    "print(\"Shape of CV matrix after one hot encodig \",X_CV_essay_tfidf.shape)"
   ]
  },
  {
   "cell_type": "code",
   "execution_count": 61,
   "metadata": {},
   "outputs": [
    {
     "name": "stdout",
     "output_type": "stream",
     "text": [
      "Shape of train matrix after one hot encodig  (14550, 898)\n",
      "Shape of test matrix after one hot encodig  (10697, 898)\n",
      "Shape of CV matrix after one hot encodig  (7167, 898)\n"
     ]
    }
   ],
   "source": [
    "# TFIDF on project titles train,test and cv data\n",
    "\n",
    "titles_tfidf_vectorizer = TfidfVectorizer(min_df=10)\n",
    "titles_tfidf_vectorizer.fit(X_Train_preprocessed_titles)\n",
    "\n",
    "X_Train_titles_tfidf = titles_vectorizer.transform(X_Train_preprocessed_titles)\n",
    "X_Test_titles_tfidf = titles_vectorizer.transform(X_Test_preprocessed_titles)\n",
    "X_CV_titles_tfidf = titles_vectorizer.transform(X_CV_preprocessed_titles)\n",
    "\n",
    "print(\"Shape of train matrix after one hot encodig \",X_Train_titles_tfidf.shape)\n",
    "print(\"Shape of test matrix after one hot encodig \",X_Test_titles_tfidf.shape)\n",
    "print(\"Shape of CV matrix after one hot encodig \",X_CV_titles_tfidf.shape)"
   ]
  },
  {
   "cell_type": "code",
   "execution_count": 62,
   "metadata": {},
   "outputs": [
    {
     "name": "stderr",
     "output_type": "stream",
     "text": [
      "100%|██████████████████████████████████████████████████████████████████████████| 14550/14550 [00:05<00:00, 2435.13it/s]\n"
     ]
    },
    {
     "name": "stdout",
     "output_type": "stream",
     "text": [
      "14550\n",
      "300\n"
     ]
    }
   ],
   "source": [
    "# average Word2Vec essay on train\n",
    "# compute average word2vec for each review.\n",
    "X_Train_avg_w2v_vectors = []; # the avg-w2v for each sentence/review is stored in this list\n",
    "for sentence in tqdm(X_Train_preprocessed_essays): # for each review/sentence\n",
    "    vector = np.zeros(300) # as word vectors are of zero length\n",
    "    cnt_words =0; # num of words with a valid vector in the sentence/review\n",
    "    for word in sentence.split(): # for each word in a review/sentence\n",
    "        if word in glove_words:\n",
    "            vector += model[word]\n",
    "            cnt_words += 1\n",
    "    if cnt_words != 0:\n",
    "        vector /= cnt_words\n",
    "    X_Train_avg_w2v_vectors.append(vector)\n",
    "\n",
    "print(len(X_Train_avg_w2v_vectors))\n",
    "print(len(X_Train_avg_w2v_vectors[0]))"
   ]
  },
  {
   "cell_type": "code",
   "execution_count": 63,
   "metadata": {},
   "outputs": [
    {
     "name": "stderr",
     "output_type": "stream",
     "text": [
      "100%|██████████████████████████████████████████████████████████████████████████| 10697/10697 [00:05<00:00, 1853.65it/s]\n"
     ]
    },
    {
     "name": "stdout",
     "output_type": "stream",
     "text": [
      "10697\n",
      "300\n"
     ]
    }
   ],
   "source": [
    "# average Word2Vec essay on test\n",
    "# compute average word2vec for each review.\n",
    "X_Test_avg_w2v_vectors = []; # the avg-w2v for each sentence/review is stored in this list\n",
    "for sentence in tqdm(X_Test_preprocessed_essays): # for each review/sentence\n",
    "    vector = np.zeros(300) # as word vectors are of zero length\n",
    "    cnt_words =0; # num of words with a valid vector in the sentence/review\n",
    "    for word in sentence.split(): # for each word in a review/sentence\n",
    "        if word in glove_words:\n",
    "            vector += model[word]\n",
    "            cnt_words += 1\n",
    "    if cnt_words != 0:\n",
    "        vector /= cnt_words\n",
    "    X_Test_avg_w2v_vectors.append(vector)\n",
    "\n",
    "print(len(X_Test_avg_w2v_vectors))\n",
    "print(len(X_Test_avg_w2v_vectors[0]))"
   ]
  },
  {
   "cell_type": "code",
   "execution_count": 64,
   "metadata": {},
   "outputs": [
    {
     "name": "stderr",
     "output_type": "stream",
     "text": [
      "100%|████████████████████████████████████████████████████████████████████████████| 7167/7167 [00:03<00:00, 1847.51it/s]\n"
     ]
    },
    {
     "name": "stdout",
     "output_type": "stream",
     "text": [
      "7167\n",
      "300\n"
     ]
    }
   ],
   "source": [
    "# average Word2Vec essay on cv\n",
    "# compute average word2vec for each review.\n",
    "X_CV_avg_w2v_vectors = []; # the avg-w2v for each sentence/review is stored in this list\n",
    "for sentence in tqdm(X_CV_preprocessed_essays): # for each review/sentence\n",
    "    vector = np.zeros(300) # as word vectors are of zero length\n",
    "    cnt_words =0; # num of words with a valid vector in the sentence/review\n",
    "    for word in sentence.split(): # for each word in a review/sentence\n",
    "        if word in glove_words:\n",
    "            vector += model[word]\n",
    "            cnt_words += 1\n",
    "    if cnt_words != 0:\n",
    "        vector /= cnt_words\n",
    "    X_CV_avg_w2v_vectors.append(vector)\n",
    "\n",
    "print(len(X_CV_avg_w2v_vectors))\n",
    "print(len(X_CV_avg_w2v_vectors[0]))"
   ]
  },
  {
   "cell_type": "code",
   "execution_count": 65,
   "metadata": {},
   "outputs": [
    {
     "name": "stderr",
     "output_type": "stream",
     "text": [
      "100%|█████████████████████████████████████████████████████████████████████████| 14550/14550 [00:00<00:00, 39311.70it/s]\n"
     ]
    },
    {
     "name": "stdout",
     "output_type": "stream",
     "text": [
      "14550\n",
      "300\n"
     ]
    }
   ],
   "source": [
    "# AVG W2V on project title train\n",
    "X_Train_avg_w2v_titles_vectors = [];\n",
    "\n",
    "for sentence in tqdm(X_Train_preprocessed_titles):\n",
    "    \n",
    "    vector_titles = np.zeros(300)\n",
    "    cnt_words_titles = 0;\n",
    "    \n",
    "    for word in sentence.split():\n",
    "        \n",
    "        if word in glove_words:\n",
    "            \n",
    "            vector += model[word]\n",
    "            cnt_words_titles += 1\n",
    "            \n",
    "    if cnt_words_titles != 0:\n",
    "        \n",
    "        vector_titles /= cnt_words_titles\n",
    "        \n",
    "    X_Train_avg_w2v_titles_vectors.append(vector_titles)\n",
    "\n",
    "print(len(X_Train_avg_w2v_titles_vectors))\n",
    "print(len(X_Train_avg_w2v_titles_vectors[0]))"
   ]
  },
  {
   "cell_type": "code",
   "execution_count": 66,
   "metadata": {},
   "outputs": [
    {
     "name": "stderr",
     "output_type": "stream",
     "text": [
      "100%|█████████████████████████████████████████████████████████████████████████| 10697/10697 [00:00<00:00, 39682.30it/s]\n"
     ]
    },
    {
     "name": "stdout",
     "output_type": "stream",
     "text": [
      "10697\n",
      "300\n"
     ]
    }
   ],
   "source": [
    "# AVG W2V on project title test\n",
    "X_Test_avg_w2v_titles_vectors = [];\n",
    "\n",
    "for sentence in tqdm(X_Test_preprocessed_titles):\n",
    "    \n",
    "    vector_titles = np.zeros(300)\n",
    "    cnt_words_titles = 0;\n",
    "    \n",
    "    for word in sentence.split():\n",
    "        \n",
    "        if word in glove_words:\n",
    "            \n",
    "            vector += model[word]\n",
    "            cnt_words_titles += 1\n",
    "            \n",
    "    if cnt_words_titles != 0:\n",
    "        \n",
    "        vector_titles /= cnt_words_titles\n",
    "        \n",
    "    X_Test_avg_w2v_titles_vectors.append(vector_titles)\n",
    "\n",
    "print(len(X_Test_avg_w2v_titles_vectors))\n",
    "print(len(X_Test_avg_w2v_titles_vectors[0]))"
   ]
  },
  {
   "cell_type": "code",
   "execution_count": 67,
   "metadata": {},
   "outputs": [
    {
     "name": "stderr",
     "output_type": "stream",
     "text": [
      "100%|███████████████████████████████████████████████████████████████████████████| 7167/7167 [00:00<00:00, 48952.14it/s]\n"
     ]
    },
    {
     "name": "stdout",
     "output_type": "stream",
     "text": [
      "7167\n",
      "300\n"
     ]
    }
   ],
   "source": [
    "# AVG W2V on project title cv\n",
    "X_CV_avg_w2v_titles_vectors = [];\n",
    "\n",
    "for sentence in tqdm(X_CV_preprocessed_titles):\n",
    "    \n",
    "    vector_titles = np.zeros(300)\n",
    "    cnt_words_titles = 0;\n",
    "    \n",
    "    for word in sentence.split():\n",
    "        \n",
    "        if word in glove_words:\n",
    "            \n",
    "            vector += model[word]\n",
    "            cnt_words_titles += 1\n",
    "            \n",
    "    if cnt_words_titles != 0:\n",
    "        \n",
    "        vector_titles /= cnt_words_titles\n",
    "        \n",
    "    X_CV_avg_w2v_titles_vectors.append(vector_titles)\n",
    "\n",
    "print(len(X_CV_avg_w2v_titles_vectors))\n",
    "print(len(X_CV_avg_w2v_titles_vectors[0]))"
   ]
  },
  {
   "cell_type": "code",
   "execution_count": 68,
   "metadata": {
    "collapsed": true
   },
   "outputs": [],
   "source": [
    "# TFIDF W2V \n",
    "# S = [\"abc def pqr\", \"def def def abc\", \"pqr pqr def\"]\n",
    "tfidf_model = TfidfVectorizer()\n",
    "tfidf_model.fit(X_Train_preprocessed_essays)\n",
    "# we are converting a dictionary with word as a key, and the idf as a value\n",
    "dictionary = dict(zip(tfidf_model.get_feature_names(), list(tfidf_model.idf_)))\n",
    "tfidf_words = set(tfidf_model.get_feature_names())"
   ]
  },
  {
   "cell_type": "code",
   "execution_count": 69,
   "metadata": {},
   "outputs": [
    {
     "name": "stderr",
     "output_type": "stream",
     "text": [
      "100%|███████████████████████████████████████████████████████████████████████████| 14550/14550 [00:43<00:00, 333.65it/s]\n"
     ]
    },
    {
     "name": "stdout",
     "output_type": "stream",
     "text": [
      "14550\n",
      "300\n"
     ]
    }
   ],
   "source": [
    "# TFIDF w2v essay train\n",
    "# compute average word2vec for each review.\n",
    "X_Train_tfidf_w2v_vectors = []; # the avg-w2v for each sentence/review is stored in this list\n",
    "for sentence in tqdm(X_Train_preprocessed_essays): # for each review/sentence\n",
    "    vector = np.zeros(300) # as word vectors are of zero length\n",
    "    tf_idf_weight =0; # num of words with a valid vector in the sentence/review\n",
    "    for word in sentence.split(): # for each word in a review/sentence\n",
    "        if (word in glove_words) and (word in tfidf_words):\n",
    "            vec = model[word] # getting the vector for each word\n",
    "            # here we are multiplying idf value(dictionary[word]) and the tf value((sentence.count(word)/len(sentence.split())))\n",
    "            tf_idf = dictionary[word]*(sentence.count(word)/len(sentence.split())) # getting the tfidf value for each word\n",
    "            vector += (vec * tf_idf) # calculating tfidf weighted w2v\n",
    "            tf_idf_weight += tf_idf\n",
    "    if tf_idf_weight != 0:\n",
    "        vector /= tf_idf_weight\n",
    "    X_Train_tfidf_w2v_vectors.append(vector)\n",
    "\n",
    "print(len(X_Train_tfidf_w2v_vectors))\n",
    "print(len(X_Train_tfidf_w2v_vectors[0]))"
   ]
  },
  {
   "cell_type": "code",
   "execution_count": 70,
   "metadata": {},
   "outputs": [
    {
     "name": "stderr",
     "output_type": "stream",
     "text": [
      "100%|███████████████████████████████████████████████████████████████████████████| 10697/10697 [00:11<00:00, 953.99it/s]\n"
     ]
    },
    {
     "name": "stdout",
     "output_type": "stream",
     "text": [
      "10697\n",
      "300\n"
     ]
    }
   ],
   "source": [
    "# TFIDF w2v essay test\n",
    "# compute average word2vec for each review.\n",
    "X_Test_tfidf_w2v_vectors = []; # the avg-w2v for each sentence/review is stored in this list\n",
    "for sentence in tqdm(X_Test_preprocessed_essays): # for each review/sentence\n",
    "    vector = np.zeros(300) # as word vectors are of zero length\n",
    "    tf_idf_weight =0; # num of words with a valid vector in the sentence/review\n",
    "    for word in sentence.split(): # for each word in a review/sentence\n",
    "        if (word in glove_words) and (word in tfidf_words):\n",
    "            vec = model[word] # getting the vector for each word\n",
    "            # here we are multiplying idf value(dictionary[word]) and the tf value((sentence.count(word)/len(sentence.split())))\n",
    "            tf_idf = dictionary[word]*(sentence.count(word)/len(sentence.split())) # getting the tfidf value for each word\n",
    "            vector += (vec * tf_idf) # calculating tfidf weighted w2v\n",
    "            tf_idf_weight += tf_idf\n",
    "    if tf_idf_weight != 0:\n",
    "        vector /= tf_idf_weight\n",
    "    X_Test_tfidf_w2v_vectors.append(vector)\n",
    "\n",
    "print(len(X_Test_tfidf_w2v_vectors))\n",
    "print(len(X_Test_tfidf_w2v_vectors[0]))"
   ]
  },
  {
   "cell_type": "code",
   "execution_count": 71,
   "metadata": {},
   "outputs": [
    {
     "name": "stderr",
     "output_type": "stream",
     "text": [
      "100%|█████████████████████████████████████████████████████████████████████████████| 7167/7167 [00:07<00:00, 948.01it/s]\n"
     ]
    },
    {
     "name": "stdout",
     "output_type": "stream",
     "text": [
      "7167\n",
      "300\n"
     ]
    }
   ],
   "source": [
    "# TFIDF w2v essay cv\n",
    "# compute average word2vec for each review.\n",
    "X_CV_tfidf_w2v_vectors = []; # the avg-w2v for each sentence/review is stored in this list\n",
    "for sentence in tqdm(X_CV_preprocessed_essays): # for each review/sentence\n",
    "    vector = np.zeros(300) # as word vectors are of zero length\n",
    "    tf_idf_weight =0; # num of words with a valid vector in the sentence/review\n",
    "    for word in sentence.split(): # for each word in a review/sentence\n",
    "        if (word in glove_words) and (word in tfidf_words):\n",
    "            vec = model[word] # getting the vector for each word\n",
    "            # here we are multiplying idf value(dictionary[word]) and the tf value((sentence.count(word)/len(sentence.split())))\n",
    "            tf_idf = dictionary[word]*(sentence.count(word)/len(sentence.split())) # getting the tfidf value for each word\n",
    "            vector += (vec * tf_idf) # calculating tfidf weighted w2v\n",
    "            tf_idf_weight += tf_idf\n",
    "    if tf_idf_weight != 0:\n",
    "        vector /= tf_idf_weight\n",
    "    X_CV_tfidf_w2v_vectors.append(vector)\n",
    "\n",
    "print(len(X_CV_tfidf_w2v_vectors))\n",
    "print(len(X_CV_tfidf_w2v_vectors[0]))"
   ]
  },
  {
   "cell_type": "code",
   "execution_count": 72,
   "metadata": {
    "collapsed": true
   },
   "outputs": [],
   "source": [
    "# TFIDF weighted W2V on project_title\n",
    "titles_tfidf_model = TfidfVectorizer()\n",
    "titles_tfidf_model.fit(X_Train_preprocessed_titles)\n",
    "titles_dictionary = dict(zip(titles_tfidf_model.get_feature_names(), list(titles_tfidf_model.idf_)))\n",
    "titles_tfidf_words = set(titles_tfidf_model.get_feature_names())\n"
   ]
  },
  {
   "cell_type": "code",
   "execution_count": 73,
   "metadata": {},
   "outputs": [
    {
     "name": "stderr",
     "output_type": "stream",
     "text": [
      "100%|█████████████████████████████████████████████████████████████████████████| 14550/14550 [00:00<00:00, 17116.83it/s]\n"
     ]
    },
    {
     "name": "stdout",
     "output_type": "stream",
     "text": [
      "14550\n",
      "300\n"
     ]
    }
   ],
   "source": [
    "# TFIDF w2v title train\n",
    "X_Train_titles_tfidf_w2v_vectors = [];\n",
    "\n",
    "for titles_sentence in tqdm(X_Train_preprocessed_titles):\n",
    "    \n",
    "    titles_vector = np.zeros(300)\n",
    "    titles_tfidf_weight = 0;\n",
    "    \n",
    "    for word in titles_sentence.split():\n",
    "        \n",
    "        if (word in glove_words) and (word in titles_tfidf_words):\n",
    "            \n",
    "            titles_vec = model[word]\n",
    "            \n",
    "            titles_tf_idf = titles_dictionary[word]*(titles_sentence.count(word)/len(titles_sentence.split())) \n",
    "            titles_vector += (titles_vec * titles_tf_idf)\n",
    "            titles_tfidf_weight += titles_tf_idf\n",
    "            \n",
    "    if titles_tfidf_weight != 0:\n",
    "        \n",
    "        titles_vector /= titles_tfidf_weight\n",
    "        \n",
    "    X_Train_titles_tfidf_w2v_vectors.append(titles_vector)\n",
    "\n",
    "print(len(X_Train_titles_tfidf_w2v_vectors))\n",
    "print(len(X_Train_titles_tfidf_w2v_vectors[0]))"
   ]
  },
  {
   "cell_type": "code",
   "execution_count": 74,
   "metadata": {},
   "outputs": [
    {
     "name": "stderr",
     "output_type": "stream",
     "text": [
      "100%|█████████████████████████████████████████████████████████████████████████| 10697/10697 [00:00<00:00, 18133.35it/s]\n"
     ]
    },
    {
     "name": "stdout",
     "output_type": "stream",
     "text": [
      "10697\n",
      "300\n"
     ]
    }
   ],
   "source": [
    "# TFIDF w2v title train\n",
    "X_Test_titles_tfidf_w2v_vectors = [];\n",
    "\n",
    "for titles_sentence in tqdm(X_Test_preprocessed_titles):\n",
    "    \n",
    "    titles_vector = np.zeros(300)\n",
    "    titles_tfidf_weight = 0;\n",
    "    \n",
    "    for word in titles_sentence.split():\n",
    "        \n",
    "        if (word in glove_words) and (word in titles_tfidf_words):\n",
    "            \n",
    "            titles_vec = model[word]\n",
    "            \n",
    "            titles_tf_idf = titles_dictionary[word]*(titles_sentence.count(word)/len(titles_sentence.split())) \n",
    "            titles_vector += (titles_vec * titles_tf_idf)\n",
    "            titles_tfidf_weight += titles_tf_idf\n",
    "            \n",
    "    if titles_tfidf_weight != 0:\n",
    "        \n",
    "        titles_vector /= titles_tfidf_weight\n",
    "        \n",
    "    X_Test_titles_tfidf_w2v_vectors.append(titles_vector)\n",
    "\n",
    "print(len(X_Test_titles_tfidf_w2v_vectors))\n",
    "print(len(X_Test_titles_tfidf_w2v_vectors[0]))"
   ]
  },
  {
   "cell_type": "code",
   "execution_count": 75,
   "metadata": {},
   "outputs": [
    {
     "name": "stderr",
     "output_type": "stream",
     "text": [
      "100%|███████████████████████████████████████████████████████████████████████████| 7167/7167 [00:00<00:00, 18090.19it/s]\n"
     ]
    },
    {
     "name": "stdout",
     "output_type": "stream",
     "text": [
      "7167\n",
      "300\n"
     ]
    }
   ],
   "source": [
    "# TFIDF w2v title cv\n",
    "X_CV_titles_tfidf_w2v_vectors = [];\n",
    "\n",
    "for titles_sentence in tqdm(X_CV_preprocessed_titles):\n",
    "    \n",
    "    titles_vector = np.zeros(300)\n",
    "    titles_tfidf_weight = 0;\n",
    "    \n",
    "    for word in titles_sentence.split():\n",
    "        \n",
    "        if (word in glove_words) and (word in titles_tfidf_words):\n",
    "            \n",
    "            titles_vec = model[word]\n",
    "            \n",
    "            titles_tf_idf = titles_dictionary[word]*(titles_sentence.count(word)/len(titles_sentence.split())) \n",
    "            titles_vector += (titles_vec * titles_tf_idf)\n",
    "            titles_tfidf_weight += titles_tf_idf\n",
    "            \n",
    "    if titles_tfidf_weight != 0:\n",
    "        \n",
    "        titles_vector /= titles_tfidf_weight\n",
    "        \n",
    "    X_CV_titles_tfidf_w2v_vectors.append(titles_vector)\n",
    "\n",
    "print(len(X_CV_titles_tfidf_w2v_vectors))\n",
    "print(len(X_CV_titles_tfidf_w2v_vectors[0]))"
   ]
  },
  {
   "cell_type": "code",
   "execution_count": 78,
   "metadata": {
    "collapsed": true
   },
   "outputs": [],
   "source": [
    "# Vectorizing numerical feature\n",
    "\n",
    "# Merging price data with train, test and cv\n",
    "X_train = pd.merge(X_train, price_data, on='id', how='left')\n",
    "X_test = pd.merge(X_test, price_data, on='id', how='left')\n",
    "X_cv = pd.merge(X_cv, price_data, on='id', how='left')"
   ]
  },
  {
   "cell_type": "code",
   "execution_count": 79,
   "metadata": {},
   "outputs": [
    {
     "name": "stdout",
     "output_type": "stream",
     "text": [
      "After vectorizations\n",
      "(14550, 1) (14550,)\n",
      "(10697, 1) (10697,)\n",
      "(7167, 1) (7167,)\n",
      "====================================================================================================\n"
     ]
    }
   ],
   "source": [
    "# Standardizing price train test and cv data\n",
    "\n",
    "from sklearn.preprocessing import Normalizer\n",
    "normalizer = Normalizer()\n",
    "# normalizer.fit(X_train['price'].values)\n",
    "# this will rise an error Expected 2D array, got 1D array instead: \n",
    "# array=[105.22 215.96  96.01 ... 368.98  80.53 709.67].\n",
    "# Reshape your data either using \n",
    "# array.reshape(-1, 1) if your data has a single feature \n",
    "# array.reshape(1, -1)  if it contains a single sample.\n",
    "normalizer.fit(X_train['price'].values.reshape(-1,1))\n",
    "\n",
    "X_train_price_norm = normalizer.transform(X_train['price'].values.reshape(-1,1))\n",
    "X_test_price_norm = normalizer.transform(X_test['price'].values.reshape(-1,1))\n",
    "X_cv_price_norm = normalizer.transform(X_cv['price'].values.reshape(-1,1))\n",
    "\n",
    "print(\"After vectorizations\")\n",
    "print(X_train_price_norm.shape, y_train.shape)\n",
    "print(X_test_price_norm.shape, y_test.shape)\n",
    "print(X_cv_price_norm.shape, y_cv.shape)\n",
    "print(\"=\"*100)\n",
    "\n"
   ]
  },
  {
   "cell_type": "markdown",
   "metadata": {
    "colab_type": "text",
    "id": "UL8bHrflCyps"
   },
   "source": [
    "<h2>2.4 Appling KNN on different kind of featurization as mentioned in the instructions</h2>\n",
    "\n",
    "<br>Apply KNN on different kind of featurization as mentioned in the instructions\n",
    "<br> For Every model that you work on make sure you do the step 2 and step 3 of instructions"
   ]
  },
  {
   "cell_type": "code",
   "execution_count": 80,
   "metadata": {
    "colab": {},
    "colab_type": "code",
    "collapsed": true,
    "id": "Tsay467cCypt"
   },
   "outputs": [],
   "source": [
    "# please write all the code with proper documentation, and proper titles for each subsection\n",
    "# go through documentations and blogs before you start coding\n",
    "# first figure out what to do, and then think about how to do.\n",
    "# reading and understanding error messages will be very much helpfull in debugging your code\n",
    "\n",
    "# when you plot any graph make sure you use \n",
    "    # a. Title, that describes your plot, this will be very helpful to the reader\n",
    "    # b. Legends if needed\n",
    "    # c. X-axis label\n",
    "    # d. Y-axis label"
   ]
  },
  {
   "cell_type": "markdown",
   "metadata": {
    "colab_type": "text",
    "id": "B1dIm8PiCypw"
   },
   "source": [
    "### 2.4.1 Applying KNN brute force on BOW,<font color='red'> SET 1</font>"
   ]
  },
  {
   "cell_type": "code",
   "execution_count": 81,
   "metadata": {
    "colab": {},
    "colab_type": "code",
    "id": "5VCLzbIoCypy"
   },
   "outputs": [
    {
     "name": "stdout",
     "output_type": "stream",
     "text": [
      "Final Data matrix\n",
      "(14550, 1091) (14550,)\n",
      "(7167, 1091) (7167,)\n",
      "(10697, 1091) (10697,)\n",
      "====================================================================================================\n"
     ]
    }
   ],
   "source": [
    "# merge two sparse matrices: https://stackoverflow.com/a/19710648/4084039\n",
    "from scipy.sparse import hstack\n",
    "\n",
    "# Train data stack\n",
    "X_tr = hstack((X_Train_categories_one_hot,X_Train_sub_categories_one_hot,X_Train_school_state_one_hot,\n",
    "               X_Train_teacher_prefix_one_hot,X_Train_grade_cat_one_hot,X_Train_essay_bow,X_Train_titles_bow,\n",
    "               X_train_price_norm)).tocsr()\n",
    "\n",
    "# CV data Stack\n",
    "X_cr = hstack((X_CV_categories_one_hot,X_CV_sub_categories_one_hot,X_CV_school_state_one_hot,\n",
    "               X_CV_teacher_prefix_one_hot,X_CV_grade_cat_one_hot,X_CV_essay_bow,X_CV_titles_bow,\n",
    "               X_cv_price_norm)).tocsr()\n",
    "\n",
    "# Test Data Stack\n",
    "X_te = hstack((X_Test_categories_one_hot,X_Test_sub_categories_one_hot,X_Test_school_state_one_hot,\n",
    "               X_Test_teacher_prefix_one_hot,X_Test_grade_cat_one_hot,X_Test_essay_bow,X_Test_titles_bow,\n",
    "               X_test_price_norm)).tocsr()\n",
    "\n",
    "print(\"Final Data matrix\")\n",
    "print(X_tr.shape, y_train.shape)\n",
    "print(X_cr.shape, y_cv.shape)\n",
    "print(X_te.shape, y_test.shape)\n",
    "print(\"=\"*100)"
   ]
  },
  {
   "cell_type": "code",
   "execution_count": 82,
   "metadata": {
    "collapsed": true
   },
   "outputs": [],
   "source": [
    "def batch_predict(clf, data):\n",
    "\n",
    "    y_data_pred = []\n",
    "    \n",
    "    # Changing the shape of predicted data in the multiple of 1000\n",
    "    tr_loop = data.shape[0] - data.shape[0]%1000\n",
    "    \n",
    "    # Running the loop for each 1000th data\n",
    "    for i in range(0, tr_loop, 1000):\n",
    "        \n",
    "        # Predicting probability\n",
    "        y_data_pred.extend(clf.predict_proba(data[i:i+1000])[:,1])\n",
    "    \n",
    "    y_data_pred.extend(clf.predict_proba(data[tr_loop:])[:,1])\n",
    "    \n",
    "    return y_data_pred"
   ]
  },
  {
   "cell_type": "code",
   "execution_count": 83,
   "metadata": {},
   "outputs": [
    {
     "name": "stderr",
     "output_type": "stream",
     "text": [
      "100%|███████████████████████████████████████████████████████████████████████████████████| 9/9 [19:53<00:00, 133.17s/it]\n"
     ]
    },
    {
     "data": {
      "image/png": "[encoded data removed]",
      "text/plain": [
       "<Figure size 432x288 with 1 Axes>"
      ]
     },
     "metadata": {},
     "output_type": "display_data"
    }
   ],
   "source": [
    "# Plotting error plot, AUC vs K plot to get best K(Bias-Variance trade-off)\n",
    "\n",
    "from sklearn.neighbors import KNeighborsClassifier\n",
    "from sklearn.metrics import roc_auc_score\n",
    "\n",
    "train_auc = []\n",
    "cv_auc = []\n",
    "\n",
    "# Execute for different K values\n",
    "K = [1, 5, 10, 15, 21, 31, 41, 51, 101]\n",
    "\n",
    "for i in tqdm(K):\n",
    "    \n",
    "    neigh = KNeighborsClassifier(n_neighbors=i)\n",
    "    neigh.fit(X_tr, y_train)\n",
    "\n",
    "    y_train_pred = batch_predict(neigh, X_tr)    \n",
    "    y_cv_pred = batch_predict(neigh, X_cr)\n",
    "\n",
    "    # roc_auc_score(y_true, y_score) the 2nd parameter should be probability estimates of the positive class\n",
    "    # not the predicted outputs\n",
    "    train_auc.append(roc_auc_score(y_train,y_train_pred))\n",
    "    cv_auc.append(roc_auc_score(y_cv, y_cv_pred))\n",
    "\n",
    "plt.plot(K, train_auc, label='Train AUC')\n",
    "plt.plot(K, cv_auc, label='CV AUC')\n",
    "\n",
    "plt.scatter(K, train_auc, label='Train AUC points')\n",
    "plt.scatter(K, cv_auc, label='CV AUC points')\n",
    "\n",
    "plt.legend()\n",
    "plt.xlabel(\"K: hyperparameter\")\n",
    "plt.ylabel(\"AUC\")\n",
    "plt.title(\"ERROR PLOTS\")\n",
    "plt.grid()\n",
    "plt.show()"
   ]
  },
  {
   "cell_type": "code",
   "execution_count": 84,
   "metadata": {},
   "outputs": [
    {
     "data": {
      "image/png": "[encoded data removed]",
      "text/plain": [
       "<Figure size 432x288 with 1 Axes>"
      ]
     },
     "metadata": {},
     "output_type": "display_data"
    }
   ],
   "source": [
    "# https://scikit-learn.org/stable/modules/generated/sklearn.metrics.roc_curve.html#sklearn.metrics.roc_curve\n",
    "from sklearn.metrics import roc_curve, auc\n",
    "\n",
    "\n",
    "neigh = KNeighborsClassifier(n_neighbors=101)\n",
    "neigh.fit(X_tr, y_train)\n",
    "# roc_auc_score(y_true, y_score) the 2nd parameter should be probability estimates of the positive class\n",
    "# not the predicted outputs\n",
    "\n",
    "y_train_pred = batch_predict(neigh, X_tr)    \n",
    "y_test_pred = batch_predict(neigh, X_te)\n",
    "\n",
    "train_fpr, train_tpr, tr_thresholds = roc_curve(y_train, y_train_pred)\n",
    "test_fpr, test_tpr, te_thresholds = roc_curve(y_test, y_test_pred)\n",
    "\n",
    "plt.plot(train_fpr, train_tpr, label=\"train AUC =\"+str(auc(train_fpr, train_tpr)))\n",
    "plt.plot(test_fpr, test_tpr, label=\"train AUC =\"+str(auc(test_fpr, test_tpr)))\n",
    "plt.legend()\n",
    "plt.xlabel(\"K: hyperparameter\")\n",
    "plt.ylabel(\"AUC\")\n",
    "plt.title(\"ERROR PLOTS\")\n",
    "plt.grid()\n",
    "plt.show()"
   ]
  },
  {
   "cell_type": "code",
   "execution_count": 85,
   "metadata": {
    "collapsed": true
   },
   "outputs": [],
   "source": [
    "# we are writing our own function for predict, with defined thresould\n",
    "# we will pick a threshold that will give the least fpr\n",
    "def predict(proba, threshould, fpr, tpr):\n",
    "    \n",
    "    t = threshould[np.argmax(tpr*(1-fpr))]\n",
    "    \n",
    "    # (tpr*(1-fpr)) will be maximum if your fpr is very low and tpr is very high\n",
    "    \n",
    "    print(\"the maximum value of tpr*(1-fpr)\", max(tpr*(1-fpr)), \"for threshold\", np.round(t,3))\n",
    "    predictions = []\n",
    "    for i in proba:\n",
    "        if i>=t:\n",
    "            predictions.append(1)\n",
    "        else:\n",
    "            predictions.append(0)\n",
    "    return predictions"
   ]
  },
  {
   "cell_type": "code",
   "execution_count": 86,
   "metadata": {},
   "outputs": [
    {
     "name": "stdout",
     "output_type": "stream",
     "text": [
      "====================================================================================================\n",
      "Train confusion matrix\n",
      "the maximum value of tpr*(1-fpr) 0.248173065563 for threshold 0.832\n",
      "[[1219 1027]\n",
      " [4779 7525]]\n",
      "Test confusion matrix\n",
      "the maximum value of tpr*(1-fpr) 0.249224653952 for threshold 0.822\n",
      "[[ 618 1034]\n",
      " [2854 6191]]\n"
     ]
    }
   ],
   "source": [
    "print(\"=\"*100)\n",
    "from sklearn.metrics import confusion_matrix\n",
    "print(\"Train confusion matrix\")\n",
    "print(confusion_matrix(y_train, predict(y_train_pred, tr_thresholds, train_fpr, train_fpr)))\n",
    "print(\"Test confusion matrix\")\n",
    "print(confusion_matrix(y_test, predict(y_test_pred, tr_thresholds, test_fpr, test_fpr)))"
   ]
  },
  {
   "cell_type": "markdown",
   "metadata": {
    "colab_type": "text",
    "id": "s85gPOAbCyp1"
   },
   "source": [
    "### 2.4.2 Applying KNN brute force on TFIDF,<font color='red'> SET 2</font>"
   ]
  },
  {
   "cell_type": "code",
   "execution_count": 87,
   "metadata": {
    "colab": {},
    "colab_type": "code",
    "id": "AfUKrzirCyp1"
   },
   "outputs": [
    {
     "name": "stdout",
     "output_type": "stream",
     "text": [
      "Final Data matrix\n",
      "(14550, 1091) (14550,)\n",
      "(7167, 1091) (7167,)\n",
      "(10697, 1091) (10697,)\n",
      "====================================================================================================\n"
     ]
    }
   ],
   "source": [
    "# merge two sparse matrices: https://stackoverflow.com/a/19710648/4084039\n",
    "from scipy.sparse import hstack\n",
    "\n",
    "# Train data stack\n",
    "X_tr = hstack((X_Train_categories_one_hot,X_Train_sub_categories_one_hot,X_Train_school_state_one_hot,\n",
    "               X_Train_teacher_prefix_one_hot,X_Train_grade_cat_one_hot,X_Train_essay_tfidf,X_Train_titles_tfidf,\n",
    "               X_train_price_norm)).tocsr()\n",
    "\n",
    "# CV data Stack\n",
    "X_cr = hstack((X_CV_categories_one_hot,X_CV_sub_categories_one_hot,X_CV_school_state_one_hot,\n",
    "               X_CV_teacher_prefix_one_hot,X_CV_grade_cat_one_hot,X_CV_essay_tfidf,X_CV_titles_tfidf,\n",
    "               X_cv_price_norm)).tocsr()\n",
    "\n",
    "# Test Data Stack\n",
    "X_te = hstack((X_Test_categories_one_hot,X_Test_sub_categories_one_hot,X_Test_school_state_one_hot,\n",
    "               X_Test_teacher_prefix_one_hot,X_Test_grade_cat_one_hot,X_Test_essay_tfidf,X_Test_titles_tfidf,\n",
    "               X_test_price_norm)).tocsr()\n",
    "\n",
    "print(\"Final Data matrix\")\n",
    "print(X_tr.shape, y_train.shape)\n",
    "print(X_cr.shape, y_cv.shape)\n",
    "print(X_te.shape, y_test.shape)\n",
    "print(\"=\"*100)"
   ]
  },
  {
   "cell_type": "code",
   "execution_count": 88,
   "metadata": {},
   "outputs": [
    {
     "name": "stderr",
     "output_type": "stream",
     "text": [
      "100%|███████████████████████████████████████████████████████████████████████████████████| 7/7 [15:11<00:00, 132.17s/it]\n"
     ]
    },
    {
     "data": {
      "image/png": "[encoded data removed]",
      "text/plain": [
       "<Figure size 432x288 with 1 Axes>"
      ]
     },
     "metadata": {},
     "output_type": "display_data"
    }
   ],
   "source": [
    "# Plotting error plot, AUC vs K plot to get best K(Bias-Variance trade-off)\n",
    "\n",
    "train_auc = []\n",
    "cv_auc = []\n",
    "\n",
    "# Execute for different K values\n",
    "K = [1, 11, 21, 31, 51, 81, 101]\n",
    "\n",
    "for i in tqdm(K):\n",
    "    \n",
    "    neigh = KNeighborsClassifier(n_neighbors=i)\n",
    "    neigh.fit(X_tr, y_train)\n",
    "\n",
    "    y_train_pred = batch_predict(neigh, X_tr)    \n",
    "    y_cv_pred = batch_predict(neigh, X_cr)\n",
    "\n",
    "    # roc_auc_score(y_true, y_score) the 2nd parameter should be probability estimates of the positive class\n",
    "    # not the predicted outputs\n",
    "    train_auc.append(roc_auc_score(y_train,y_train_pred))\n",
    "    cv_auc.append(roc_auc_score(y_cv, y_cv_pred))\n",
    "\n",
    "plt.plot(K, train_auc, label='Train AUC')\n",
    "plt.plot(K, cv_auc, label='CV AUC')\n",
    "\n",
    "plt.scatter(K, train_auc, label='Train AUC points')\n",
    "plt.scatter(K, cv_auc, label='CV AUC points')\n",
    "\n",
    "plt.legend()\n",
    "plt.xlabel(\"K: hyperparameter\")\n",
    "plt.ylabel(\"AUC\")\n",
    "plt.title(\"ERROR PLOTS\")\n",
    "plt.grid()\n",
    "plt.show()"
   ]
  },
  {
   "cell_type": "code",
   "execution_count": 89,
   "metadata": {},
   "outputs": [
    {
     "data": {
      "image/png": "[encoded data removed]",
      "text/plain": [
       "<Figure size 432x288 with 1 Axes>"
      ]
     },
     "metadata": {},
     "output_type": "display_data"
    }
   ],
   "source": [
    "neigh = KNeighborsClassifier(n_neighbors=101)\n",
    "neigh.fit(X_tr, y_train)\n",
    "# roc_auc_score(y_true, y_score) the 2nd parameter should be probability estimates of the positive class\n",
    "# not the predicted outputs\n",
    "\n",
    "y_train_pred = batch_predict(neigh, X_tr)    \n",
    "y_test_pred = batch_predict(neigh, X_te)\n",
    "\n",
    "train_fpr, train_tpr, tr_thresholds = roc_curve(y_train, y_train_pred)\n",
    "test_fpr, test_tpr, te_thresholds = roc_curve(y_test, y_test_pred)\n",
    "\n",
    "plt.plot(train_fpr, train_tpr, label=\"train AUC =\"+str(auc(train_fpr, train_tpr)))\n",
    "plt.plot(test_fpr, test_tpr, label=\"train AUC =\"+str(auc(test_fpr, test_tpr)))\n",
    "plt.legend()\n",
    "plt.xlabel(\"K: hyperparameter\")\n",
    "plt.ylabel(\"AUC\")\n",
    "plt.title(\"ERROR PLOTS\")\n",
    "plt.grid()\n",
    "plt.show()"
   ]
  },
  {
   "cell_type": "code",
   "execution_count": 91,
   "metadata": {},
   "outputs": [
    {
     "name": "stdout",
     "output_type": "stream",
     "text": [
      "====================================================================================================\n",
      "Train confusion matrix\n",
      "the maximum value of tpr*(1-fpr) 0.247855889445 for threshold 0.822\n",
      "[[1019 1227]\n",
      " [3789 8515]]\n",
      "Test confusion matrix\n",
      "the maximum value of tpr*(1-fpr) 0.249525118867 for threshold 0.832\n",
      "[[ 790  862]\n",
      " [3638 5407]]\n"
     ]
    }
   ],
   "source": [
    "print(\"=\"*100)\n",
    "print(\"Train confusion matrix\")\n",
    "print(confusion_matrix(y_train, predict(y_train_pred, tr_thresholds, train_fpr, train_fpr)))\n",
    "print(\"Test confusion matrix\")\n",
    "print(confusion_matrix(y_test, predict(y_test_pred, tr_thresholds, test_fpr, test_fpr)))"
   ]
  },
  {
   "cell_type": "markdown",
   "metadata": {
    "colab_type": "text",
    "id": "oq3NW2CbCyp3"
   },
   "source": [
    "### 2.4.3 Applying KNN brute force on AVG W2V,<font color='red'> SET 3</font>"
   ]
  },
  {
   "cell_type": "code",
   "execution_count": 92,
   "metadata": {
    "colab": {},
    "colab_type": "code",
    "id": "jRug28P9Cyp3"
   },
   "outputs": [
    {
     "name": "stdout",
     "output_type": "stream",
     "text": [
      "Final Data matrix\n",
      "(14550, 701) (14550,)\n",
      "(7167, 701) (7167,)\n",
      "(10697, 701) (10697,)\n",
      "====================================================================================================\n"
     ]
    }
   ],
   "source": [
    "# Train data stack\n",
    "X_tr = hstack((X_Train_categories_one_hot,X_Train_sub_categories_one_hot,X_Train_school_state_one_hot,\n",
    "               X_Train_teacher_prefix_one_hot,X_Train_grade_cat_one_hot,X_Train_avg_w2v_vectors,X_Train_avg_w2v_titles_vectors,\n",
    "               X_train_price_norm)).tocsr()\n",
    "\n",
    "# CV data Stack\n",
    "X_cr = hstack((X_CV_categories_one_hot,X_CV_sub_categories_one_hot,X_CV_school_state_one_hot,\n",
    "               X_CV_teacher_prefix_one_hot,X_CV_grade_cat_one_hot,X_CV_avg_w2v_vectors,X_CV_avg_w2v_titles_vectors,\n",
    "               X_cv_price_norm)).tocsr()\n",
    "\n",
    "# Test Data Stack\n",
    "X_te = hstack((X_Test_categories_one_hot,X_Test_sub_categories_one_hot,X_Test_school_state_one_hot,\n",
    "               X_Test_teacher_prefix_one_hot,X_Test_grade_cat_one_hot,X_Test_avg_w2v_vectors,X_Test_avg_w2v_titles_vectors,\n",
    "               X_test_price_norm)).tocsr()\n",
    "\n",
    "print(\"Final Data matrix\")\n",
    "print(X_tr.shape, y_train.shape)\n",
    "print(X_cr.shape, y_cv.shape)\n",
    "print(X_te.shape, y_test.shape)\n",
    "print(\"=\"*100)"
   ]
  },
  {
   "cell_type": "code",
   "execution_count": 93,
   "metadata": {},
   "outputs": [
    {
     "name": "stderr",
     "output_type": "stream",
     "text": [
      "100%|███████████████████████████████████████████████████████████████████████████████████| 4/4 [31:17<00:00, 468.74s/it]\n"
     ]
    },
    {
     "data": {
      "image/png": "[encoded data removed]",
      "text/plain": [
       "<Figure size 432x288 with 1 Axes>"
      ]
     },
     "metadata": {},
     "output_type": "display_data"
    }
   ],
   "source": [
    "# Plotting error plot, AUC vs K plot to get best K(Bias-Variance trade-off)\n",
    "\n",
    "train_auc = []\n",
    "cv_auc = []\n",
    "\n",
    "# Execute for different K values\n",
    "K = [1, 21, 51, 101]\n",
    "\n",
    "for i in tqdm(K):\n",
    "    \n",
    "    neigh = KNeighborsClassifier(n_neighbors=i)\n",
    "    neigh.fit(X_tr, y_train)\n",
    "\n",
    "    y_train_pred = batch_predict(neigh, X_tr)    \n",
    "    y_cv_pred = batch_predict(neigh, X_cr)\n",
    "\n",
    "    # roc_auc_score(y_true, y_score) the 2nd parameter should be probability estimates of the positive class\n",
    "    # not the predicted outputs\n",
    "    train_auc.append(roc_auc_score(y_train,y_train_pred))\n",
    "    cv_auc.append(roc_auc_score(y_cv, y_cv_pred))\n",
    "\n",
    "plt.plot(K, train_auc, label='Train AUC')\n",
    "plt.plot(K, cv_auc, label='CV AUC')\n",
    "\n",
    "plt.scatter(K, train_auc, label='Train AUC points')\n",
    "plt.scatter(K, cv_auc, label='CV AUC points')\n",
    "\n",
    "plt.legend()\n",
    "plt.xlabel(\"K: hyperparameter\")\n",
    "plt.ylabel(\"AUC\")\n",
    "plt.title(\"ERROR PLOTS\")\n",
    "plt.grid()\n",
    "plt.show()"
   ]
  },
  {
   "cell_type": "code",
   "execution_count": 95,
   "metadata": {},
   "outputs": [
    {
     "data": {
      "image/png": "[encoded data removed]",
      "text/plain": [
       "<Figure size 432x288 with 1 Axes>"
      ]
     },
     "metadata": {},
     "output_type": "display_data"
    }
   ],
   "source": [
    "neigh = KNeighborsClassifier(n_neighbors=101)\n",
    "neigh.fit(X_tr, y_train)\n",
    "# roc_auc_score(y_true, y_score) the 2nd parameter should be probability estimates of the positive class\n",
    "# not the predicted outputs\n",
    "\n",
    "y_train_pred = batch_predict(neigh, X_tr)    \n",
    "y_test_pred = batch_predict(neigh, X_te)\n",
    "\n",
    "train_fpr, train_tpr, tr_thresholds = roc_curve(y_train, y_train_pred)\n",
    "test_fpr, test_tpr, te_thresholds = roc_curve(y_test, y_test_pred)\n",
    "\n",
    "plt.plot(train_fpr, train_tpr, label=\"train AUC =\"+str(auc(train_fpr, train_tpr)))\n",
    "plt.plot(test_fpr, test_tpr, label=\"test AUC =\"+str(auc(test_fpr, test_tpr)))\n",
    "plt.legend()\n",
    "plt.xlabel(\"K: hyperparameter\")\n",
    "plt.ylabel(\"AUC\")\n",
    "plt.title(\"ERROR PLOTS\")\n",
    "plt.grid()\n",
    "plt.show()"
   ]
  },
  {
   "cell_type": "code",
   "execution_count": 97,
   "metadata": {},
   "outputs": [
    {
     "name": "stdout",
     "output_type": "stream",
     "text": [
      "====================================================================================================\n",
      "Train confusion matrix\n",
      "the maximum value of tpr*(1-fpr) 0.249833284303 for threshold 0.842\n",
      "[[1152 1094]\n",
      " [4466 7838]]\n",
      "Test confusion matrix\n",
      "the maximum value of tpr*(1-fpr) 0.249190576834 for threshold 0.851\n",
      "[[ 873  779]\n",
      " [4175 4870]]\n"
     ]
    }
   ],
   "source": [
    "print(\"=\"*100)\n",
    "print(\"Train confusion matrix\")\n",
    "print(confusion_matrix(y_train, predict(y_train_pred, tr_thresholds, train_fpr, train_fpr)))\n",
    "print(\"Test confusion matrix\")\n",
    "print(confusion_matrix(y_test, predict(y_test_pred, tr_thresholds, test_fpr, test_fpr)))"
   ]
  },
  {
   "cell_type": "markdown",
   "metadata": {
    "colab_type": "text",
    "id": "TJLjbsNYCyp5"
   },
   "source": [
    "### 2.4.4 Applying KNN brute force on TFIDF W2V,<font color='red'> SET 4</font>"
   ]
  },
  {
   "cell_type": "code",
   "execution_count": 99,
   "metadata": {
    "colab": {},
    "colab_type": "code",
    "id": "b-sFaOjWCyp6"
   },
   "outputs": [
    {
     "name": "stdout",
     "output_type": "stream",
     "text": [
      "Final Data matrix\n",
      "(14550, 701) (14550,)\n",
      "(7167, 701) (7167,)\n",
      "(10697, 701) (10697,)\n",
      "====================================================================================================\n"
     ]
    }
   ],
   "source": [
    "# Train data stack\n",
    "X_tr = hstack((X_Train_categories_one_hot,X_Train_sub_categories_one_hot,X_Train_school_state_one_hot,\n",
    "               X_Train_teacher_prefix_one_hot,X_Train_grade_cat_one_hot,X_Train_tfidf_w2v_vectors,X_Train_titles_tfidf_w2v_vectors,\n",
    "               X_train_price_norm)).tocsr()\n",
    "\n",
    "# CV data Stack\n",
    "X_cr = hstack((X_CV_categories_one_hot,X_CV_sub_categories_one_hot,X_CV_school_state_one_hot,\n",
    "               X_CV_teacher_prefix_one_hot,X_CV_grade_cat_one_hot,X_CV_tfidf_w2v_vectors,X_CV_titles_tfidf_w2v_vectors,\n",
    "               X_cv_price_norm)).tocsr()\n",
    "\n",
    "# Test Data Stack\n",
    "X_te = hstack((X_Test_categories_one_hot,X_Test_sub_categories_one_hot,X_Test_school_state_one_hot,\n",
    "               X_Test_teacher_prefix_one_hot,X_Test_grade_cat_one_hot,X_Test_tfidf_w2v_vectors,X_Test_titles_tfidf_w2v_vectors,\n",
    "               X_test_price_norm)).tocsr()\n",
    "\n",
    "print(\"Final Data matrix\")\n",
    "print(X_tr.shape, y_train.shape)\n",
    "print(X_cr.shape, y_cv.shape)\n",
    "print(X_te.shape, y_test.shape)\n",
    "print(\"=\"*100)"
   ]
  },
  {
   "cell_type": "code",
   "execution_count": 100,
   "metadata": {},
   "outputs": [
    {
     "name": "stderr",
     "output_type": "stream",
     "text": [
      "100%|███████████████████████████████████████████████████████████████████████████████████| 3/3 [22:20<00:00, 478.06s/it]\n"
     ]
    },
    {
     "data": {
      "image/png": "[encoded data removed]",
      "text/plain": [
       "<Figure size 432x288 with 1 Axes>"
      ]
     },
     "metadata": {},
     "output_type": "display_data"
    }
   ],
   "source": [
    "# Plotting error plot, AUC vs K plot to get best K(Bias-Variance trade-off)\n",
    "\n",
    "train_auc = []\n",
    "cv_auc = []\n",
    "\n",
    "# Execute for different K values\n",
    "K = [1, 21, 201]\n",
    "\n",
    "for i in tqdm(K):\n",
    "    \n",
    "    neigh = KNeighborsClassifier(n_neighbors=i)\n",
    "    neigh.fit(X_tr, y_train)\n",
    "\n",
    "    y_train_pred = batch_predict(neigh, X_tr)    \n",
    "    y_cv_pred = batch_predict(neigh, X_cr)\n",
    "\n",
    "    # roc_auc_score(y_true, y_score) the 2nd parameter should be probability estimates of the positive class\n",
    "    # not the predicted outputs\n",
    "    train_auc.append(roc_auc_score(y_train,y_train_pred))\n",
    "    cv_auc.append(roc_auc_score(y_cv, y_cv_pred))\n",
    "\n",
    "plt.plot(K, train_auc, label='Train AUC')\n",
    "plt.plot(K, cv_auc, label='CV AUC')\n",
    "\n",
    "plt.scatter(K, train_auc, label='Train AUC points')\n",
    "plt.scatter(K, cv_auc, label='CV AUC points')\n",
    "\n",
    "plt.legend()\n",
    "plt.xlabel(\"K: hyperparameter\")\n",
    "plt.ylabel(\"AUC\")\n",
    "plt.title(\"ERROR PLOTS\")\n",
    "plt.grid()\n",
    "plt.show()"
   ]
  },
  {
   "cell_type": "code",
   "execution_count": 101,
   "metadata": {},
   "outputs": [
    {
     "data": {
      "image/png": "[encoded data removed]",
      "text/plain": [
       "<Figure size 432x288 with 1 Axes>"
      ]
     },
     "metadata": {},
     "output_type": "display_data"
    }
   ],
   "source": [
    "# https://scikit-learn.org/stable/modules/generated/sklearn.metrics.roc_curve.html#sklearn.metrics.roc_curve\n",
    "\n",
    "neigh = KNeighborsClassifier(n_neighbors=201)\n",
    "neigh.fit(X_tr, y_train)\n",
    "# roc_auc_score(y_true, y_score) the 2nd parameter should be probability estimates of the positive class\n",
    "# not the predicted outputs\n",
    "\n",
    "y_train_pred = batch_predict(neigh, X_tr)    \n",
    "y_test_pred = batch_predict(neigh, X_te)\n",
    "\n",
    "train_fpr, train_tpr, tr_thresholds = roc_curve(y_train, y_train_pred)\n",
    "test_fpr, test_tpr, te_thresholds = roc_curve(y_test, y_test_pred)\n",
    "\n",
    "plt.plot(train_fpr, train_tpr, label=\"train AUC =\"+str(auc(train_fpr, train_tpr)))\n",
    "plt.plot(test_fpr, test_tpr, label=\"train AUC =\"+str(auc(test_fpr, test_tpr)))\n",
    "plt.legend()\n",
    "plt.xlabel(\"K: hyperparameter\")\n",
    "plt.ylabel(\"AUC\")\n",
    "plt.title(\"ERROR PLOTS\")\n",
    "plt.grid()\n",
    "plt.show()"
   ]
  },
  {
   "cell_type": "code",
   "execution_count": 103,
   "metadata": {},
   "outputs": [
    {
     "name": "stdout",
     "output_type": "stream",
     "text": [
      "====================================================================================================\n",
      "Train confusion matrix\n",
      "the maximum value of tpr*(1-fpr) 0.249966498273 for threshold 0.841\n",
      "[[1110 1136]\n",
      " [4200 8104]]\n",
      "Test confusion matrix\n",
      "the maximum value of tpr*(1-fpr) 0.249600967937 for threshold 0.841\n",
      "[[ 771  881]\n",
      " [3124 5921]]\n"
     ]
    }
   ],
   "source": [
    "print(\"=\"*100)\n",
    "print(\"Train confusion matrix\")\n",
    "print(confusion_matrix(y_train, predict(y_train_pred, tr_thresholds, train_fpr, train_fpr)))\n",
    "print(\"Test confusion matrix\")\n",
    "print(confusion_matrix(y_test, predict(y_test_pred, tr_thresholds, test_fpr, test_fpr)))"
   ]
  },
  {
   "cell_type": "markdown",
   "metadata": {
    "colab_type": "text",
    "id": "G60n-gK8Cyp7"
   },
   "source": [
    "<h2>2.5 Feature selection with `SelectKBest` </h2>"
   ]
  },
  {
   "cell_type": "code",
   "execution_count": 119,
   "metadata": {
    "colab": {},
    "colab_type": "code",
    "id": "VThRCDvZCyp9"
   },
   "outputs": [
    {
     "name": "stdout",
     "output_type": "stream",
     "text": [
      "Final Data matrix\n",
      "(14550, 500) (14550,)\n",
      "(7167, 500) (7167,)\n",
      "(10697, 500) (10697,)\n",
      "====================================================================================================\n"
     ]
    }
   ],
   "source": [
    "# https://scikit-learn.org/stable/modules/generated/sklearn.feature_selection.SelectKBest.html\n",
    "\n",
    "from sklearn.feature_selection import SelectKBest, chi2\n",
    "\n",
    "# Train data stack\n",
    "X_tr = hstack((X_Train_categories_one_hot,X_Train_sub_categories_one_hot,X_Train_school_state_one_hot,\n",
    "               X_Train_teacher_prefix_one_hot,X_Train_grade_cat_one_hot,X_Train_essay_bow,X_Train_titles_bow,\n",
    "               X_train_price_norm)).tocsr()\n",
    "\n",
    "# CV data Stack\n",
    "X_cr = hstack((X_CV_categories_one_hot,X_CV_sub_categories_one_hot,X_CV_school_state_one_hot,\n",
    "               X_CV_teacher_prefix_one_hot,X_CV_grade_cat_one_hot,X_CV_essay_bow,X_CV_titles_bow,\n",
    "               X_cv_price_norm)).tocsr()\n",
    "\n",
    "# Test Data Stack\n",
    "X_te = hstack((X_Test_categories_one_hot,X_Test_sub_categories_one_hot,X_Test_school_state_one_hot,\n",
    "               X_Test_teacher_prefix_one_hot,X_Test_grade_cat_one_hot,X_Test_essay_bow,X_Test_titles_bow,\n",
    "               X_test_price_norm)).tocsr()\n",
    "\n",
    "X_tr_new = SelectKBest(chi2, k=500).fit_transform(X_tr, y_train)\n",
    "X_cr_new = SelectKBest(chi2, k=500).fit_transform(X_cr, y_cv)\n",
    "X_te_new = SelectKBest(chi2, k=500).fit_transform(X_te, y_test)\n",
    "\n",
    "print(\"Final Data matrix\")\n",
    "print(X_tr_new.shape, y_train.shape)\n",
    "print(X_cr_new.shape, y_cv.shape)\n",
    "print(X_te_new.shape, y_test.shape)\n",
    "print(\"=\"*100)"
   ]
  },
  {
   "cell_type": "code",
   "execution_count": 120,
   "metadata": {},
   "outputs": [
    {
     "name": "stderr",
     "output_type": "stream",
     "text": [
      "100%|████████████████████████████████████████████████████████████████████████████████████| 4/4 [00:40<00:00,  9.93s/it]\n"
     ]
    },
    {
     "data": {
      "image/png": "[encoded data removed]",
      "text/plain": [
       "<Figure size 432x288 with 1 Axes>"
      ]
     },
     "metadata": {},
     "output_type": "display_data"
    }
   ],
   "source": [
    "# Plotting error plot, AUC vs K plot to get best K(Bias-Variance trade-off)\n",
    "\n",
    "train_auc = []\n",
    "cv_auc = []\n",
    "\n",
    "# Execute for different K values\n",
    "K = [1, 51, 101, 201]\n",
    "\n",
    "for i in tqdm(K):\n",
    "    \n",
    "    neigh = KNeighborsClassifier(n_neighbors=i)\n",
    "    neigh.fit(X_tr_new, y_train)\n",
    "\n",
    "    y_train_pred = batch_predict(neigh, X_tr_new)    \n",
    "    y_cv_pred = batch_predict(neigh, X_cr_new)\n",
    "\n",
    "    # roc_auc_score(y_true, y_score) the 2nd parameter should be probability estimates of the positive class\n",
    "    # not the predicted outputs\n",
    "    train_auc.append(roc_auc_score(y_train,y_train_pred))\n",
    "    cv_auc.append(roc_auc_score(y_cv, y_cv_pred))\n",
    "\n",
    "plt.plot(K, train_auc, label='Train AUC')\n",
    "plt.plot(K, cv_auc, label='CV AUC')\n",
    "\n",
    "plt.scatter(K, train_auc, label='Train AUC points')\n",
    "plt.scatter(K, cv_auc, label='CV AUC points')\n",
    "\n",
    "plt.legend()\n",
    "plt.xlabel(\"K: hyperparameter\")\n",
    "plt.ylabel(\"AUC\")\n",
    "plt.title(\"ERROR PLOTS\")\n",
    "plt.grid()\n",
    "plt.show()"
   ]
  },
  {
   "cell_type": "code",
   "execution_count": 121,
   "metadata": {},
   "outputs": [
    {
     "data": {
      "image/png": "[encoded data removed]",
      "text/plain": [
       "<Figure size 432x288 with 1 Axes>"
      ]
     },
     "metadata": {},
     "output_type": "display_data"
    }
   ],
   "source": [
    "# https://scikit-learn.org/stable/modules/generated/sklearn.metrics.roc_curve.html#sklearn.metrics.roc_curve\n",
    "\n",
    "neigh = KNeighborsClassifier(n_neighbors=201)\n",
    "neigh.fit(X_tr_new, y_train)\n",
    "# roc_auc_score(y_true, y_score) the 2nd parameter should be probability estimates of the positive class\n",
    "# not the predicted outputs\n",
    "\n",
    "y_train_pred = batch_predict(neigh, X_tr_new)    \n",
    "y_test_pred = batch_predict(neigh, X_te_new)\n",
    "\n",
    "train_fpr, train_tpr, tr_thresholds = roc_curve(y_train, y_train_pred)\n",
    "test_fpr, test_tpr, te_thresholds = roc_curve(y_test, y_test_pred)\n",
    "\n",
    "plt.plot(train_fpr, train_tpr, label=\"train AUC =\"+str(auc(train_fpr, train_tpr)))\n",
    "plt.plot(test_fpr, test_tpr, label=\"test AUC =\"+str(auc(test_fpr, test_tpr)))\n",
    "plt.legend()\n",
    "plt.xlabel(\"K: hyperparameter\")\n",
    "plt.ylabel(\"AUC\")\n",
    "plt.title(\"ERROR PLOTS\")\n",
    "plt.grid()\n",
    "plt.show()"
   ]
  },
  {
   "cell_type": "code",
   "execution_count": 123,
   "metadata": {},
   "outputs": [
    {
     "name": "stdout",
     "output_type": "stream",
     "text": [
      "====================================================================================================\n",
      "Train confusion matrix\n",
      "the maximum value of tpr*(1-fpr) 0.249713748554 for threshold 0.831\n",
      "[[1161 1085]\n",
      " [4620 7684]]\n",
      "Test confusion matrix\n",
      "the maximum value of tpr*(1-fpr) 0.249470888614 for threshold 0.841\n",
      "[[ 285 1367]\n",
      " [1532 7513]]\n"
     ]
    }
   ],
   "source": [
    "print(\"=\"*100)\n",
    "print(\"Train confusion matrix\")\n",
    "print(confusion_matrix(y_train, predict(y_train_pred, tr_thresholds, train_fpr, train_fpr)))\n",
    "print(\"Test confusion matrix\")\n",
    "print(confusion_matrix(y_test, predict(y_test_pred, tr_thresholds, test_fpr, test_fpr)))"
   ]
  },
  {
   "cell_type": "markdown",
   "metadata": {
    "colab_type": "text",
    "id": "bemispVtCyp-"
   },
   "source": [
    "<h1>3. Conclusions</h1>"
   ]
  },
  {
   "cell_type": "code",
   "execution_count": 125,
   "metadata": {
    "colab": {},
    "colab_type": "code",
    "id": "zRO-VPG2Cyp_"
   },
   "outputs": [
    {
     "name": "stdout",
     "output_type": "stream",
     "text": [
      "+------------------------------------+--------------+-----------+----------+\n",
      "|           Featurization            | Best K Value | Train AUC | Test AUC |\n",
      "+------------------------------------+--------------+-----------+----------+\n",
      "|       KNN Brute force on BOW       |     101      |    0.6    |   0.54   |\n",
      "|      KNN Brute force on TFIDF      |     101      |    0.61   |   0.55   |\n",
      "|     KNN brute force on Avg W2V     |     101      |    0.6    |   0.54   |\n",
      "|    KNN brute force on TFIDF W2V    |     201      |    0.61   |   0.59   |\n",
      "| Feature selection with SelectKBest |     201      |    0.6    |   0.51   |\n",
      "+------------------------------------+--------------+-----------+----------+\n"
     ]
    }
   ],
   "source": [
    "# http://zetcode.com/python/prettytable/\n",
    "\n",
    "x = PrettyTable()\n",
    "\n",
    "x.field_names = [\"Featurization\", \"Best K Value\", \"Train AUC\", \"Test AUC\"]\n",
    "\n",
    "x.add_row([\"KNN Brute force on BOW\", 101, 0.60, 0.54])\n",
    "x.add_row([\"KNN Brute force on TFIDF\", 101, 0.61, 0.55])\n",
    "x.add_row([\"KNN brute force on Avg W2V\", 101, 0.60, 0.54])\n",
    "x.add_row([\"KNN brute force on TFIDF W2V\", 201, 0.61, 0.59])\n",
    "x.add_row([\"Feature selection with SelectKBest\", 201, 0.60, 0.51])\n",
    "\n",
    "print(x)"
   ]
  },
  {
   "cell_type": "code",
   "execution_count": null,
   "metadata": {
    "collapsed": true
   },
   "outputs": [],
   "source": []
  }
 ],
 "metadata": {
  "colab": {
   "collapsed_sections": [
    "0d0QeeQ-CyoD",
    "5YnkzKnmCyoN",
    "W544CoFtCyoN",
    "gK_SHRpTCyol",
    "YHwGesZUCyo1",
    "_s3QN_ZNCypD",
    "B1dIm8PiCypw",
    "s85gPOAbCyp1",
    "oq3NW2CbCyp3",
    "TJLjbsNYCyp5"
   ],
   "name": "3_DonorsChoose_KNN.ipynb",
   "provenance": [],
   "version": "0.3.2"
  },
  "kernelspec": {
   "display_name": "Python 3",
   "language": "python",
   "name": "python3"
  },
  "language_info": {
   "codemirror_mode": {
    "name": "ipython",
    "version": 3
   },
   "file_extension": ".py",
   "mimetype": "text/x-python",
   "name": "python",
   "nbconvert_exporter": "python",
   "pygments_lexer": "ipython3",
   "version": "3.6.2"
  }
 },
 "nbformat": 4,
 "nbformat_minor": 1
}
